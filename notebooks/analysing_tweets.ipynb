{
 "cells": [
  {
   "cell_type": "code",
   "execution_count": 1,
   "metadata": {},
   "outputs": [],
   "source": [
    "import pandas as pd\n",
    "import re\n",
    "import numpy as np"
   ]
  },
  {
   "cell_type": "code",
   "execution_count": 2,
   "metadata": {},
   "outputs": [],
   "source": [
    "df = pd.read_csv(\"/Volumes/MemoriaEle/HeavyData/sismo_cdmx_506.csv\")"
   ]
  },
  {
   "cell_type": "code",
   "execution_count": 3,
   "metadata": {},
   "outputs": [],
   "source": [
    "pd.set_option('display.max_colwidth', None)"
   ]
  },
  {
   "cell_type": "code",
   "execution_count": 4,
   "metadata": {},
   "outputs": [
    {
     "data": {
      "text/plain": [
       "Index(['Unnamed: 0', 'created_at', 'id', 'author_id', 'conversation_id',\n",
       "       'referenced_tweets', 'reply_to_user_id', 'entities', 'text',\n",
       "       'username'],\n",
       "      dtype='object')"
      ]
     },
     "execution_count": 4,
     "metadata": {},
     "output_type": "execute_result"
    }
   ],
   "source": [
    "df.columns"
   ]
  },
  {
   "cell_type": "code",
   "execution_count": 5,
   "metadata": {},
   "outputs": [],
   "source": [
    "df = df.rename(columns={'Unnamed: 0': 'unamed'})"
   ]
  },
  {
   "cell_type": "code",
   "execution_count": 6,
   "metadata": {},
   "outputs": [
    {
     "data": {
      "text/plain": [
       "unamed                int64\n",
       "created_at           object\n",
       "id                    int64\n",
       "author_id             int64\n",
       "conversation_id       int64\n",
       "referenced_tweets    object\n",
       "reply_to_user_id     object\n",
       "entities             object\n",
       "text                 object\n",
       "username             object\n",
       "dtype: object"
      ]
     },
     "execution_count": 6,
     "metadata": {},
     "output_type": "execute_result"
    }
   ],
   "source": [
    "df.dtypes"
   ]
  },
  {
   "cell_type": "code",
   "execution_count": 7,
   "metadata": {},
   "outputs": [],
   "source": [
    "df['created_at']= pd.to_datetime(df['created_at'])"
   ]
  },
  {
   "cell_type": "code",
   "execution_count": 8,
   "metadata": {},
   "outputs": [
    {
     "data": {
      "text/plain": [
       "unamed                             int64\n",
       "created_at           datetime64[ns, UTC]\n",
       "id                                 int64\n",
       "author_id                          int64\n",
       "conversation_id                    int64\n",
       "referenced_tweets                 object\n",
       "reply_to_user_id                  object\n",
       "entities                          object\n",
       "text                              object\n",
       "username                          object\n",
       "dtype: object"
      ]
     },
     "execution_count": 8,
     "metadata": {},
     "output_type": "execute_result"
    }
   ],
   "source": [
    "df.dtypes"
   ]
  },
  {
   "cell_type": "code",
   "execution_count": 9,
   "metadata": {},
   "outputs": [
    {
     "data": {
      "text/html": [
       "<div>\n",
       "<style scoped>\n",
       "    .dataframe tbody tr th:only-of-type {\n",
       "        vertical-align: middle;\n",
       "    }\n",
       "\n",
       "    .dataframe tbody tr th {\n",
       "        vertical-align: top;\n",
       "    }\n",
       "\n",
       "    .dataframe thead th {\n",
       "        text-align: right;\n",
       "    }\n",
       "</style>\n",
       "<table border=\"1\" class=\"dataframe\">\n",
       "  <thead>\n",
       "    <tr style=\"text-align: right;\">\n",
       "      <th></th>\n",
       "      <th>unamed</th>\n",
       "      <th>created_at</th>\n",
       "      <th>id</th>\n",
       "      <th>author_id</th>\n",
       "      <th>conversation_id</th>\n",
       "      <th>referenced_tweets</th>\n",
       "      <th>reply_to_user_id</th>\n",
       "      <th>entities</th>\n",
       "      <th>text</th>\n",
       "      <th>username</th>\n",
       "    </tr>\n",
       "  </thead>\n",
       "  <tbody>\n",
       "    <tr>\n",
       "      <th>0</th>\n",
       "      <td>0</td>\n",
       "      <td>2017-09-12 23:59:02+00:00</td>\n",
       "      <td>907755462241775617</td>\n",
       "      <td>1380764066</td>\n",
       "      <td>907755462241775617</td>\n",
       "      <td>propio</td>\n",
       "      <td>propio_original</td>\n",
       "      <td>{'annotations': [{'start': 59, 'end': 64, 'probability': 0.9962, 'type': 'Place', 'normalized_text': 'México'}], 'urls': [{'start': 90, 'end': 113, 'url': 'https://t.co/SQzgN5sjgJ', 'expanded_url': 'http://capital-cdmx.org/nota-Se-registra-el-sismo-mas-fuerte-en-100-anos-en-Mexico--reportan-cinco-muertos-20178952', 'display_url': 'capital-cdmx.org/nota-Se-regist…'}], 'hashtags': [{'start': 0, 'end': 11, 'tag': 'LoMásLeído'}]}</td>\n",
       "      <td>#LoMásLeído Se registra el sismo más fuerte en 100 años en México; reportan cinco muertos https://t.co/SQzgN5sjgJ</td>\n",
       "      <td>CapitalMX_</td>\n",
       "    </tr>\n",
       "    <tr>\n",
       "      <th>1</th>\n",
       "      <td>1</td>\n",
       "      <td>2017-09-12 23:54:55+00:00</td>\n",
       "      <td>907754428371005441</td>\n",
       "      <td>1380764066</td>\n",
       "      <td>907754428371005441</td>\n",
       "      <td>propio</td>\n",
       "      <td>propio_original</td>\n",
       "      <td>{'annotations': [{'start': 44, 'end': 55, 'probability': 0.5233, 'type': 'Place', 'normalized_text': 'Capital CDMX'}], 'urls': [{'start': 77, 'end': 100, 'url': 'https://t.co/A5eky5Rp5g', 'expanded_url': 'https://capital-cdmx.org/nota-19-planteles-de-la-Capital-CDMX-afectados-por-sismo-seran-reubicados-201710946', 'display_url': 'capital-cdmx.org/nota-19-plante…'}], 'hashtags': [{'start': 0, 'end': 13, 'tag': 'EntérateCDMX'}]}</td>\n",
       "      <td>#EntérateCDMX Reubican a 19 planteles de la Capital CDMX afectados por sismo https://t.co/A5eky5Rp5g</td>\n",
       "      <td>CapitalMX_</td>\n",
       "    </tr>\n",
       "    <tr>\n",
       "      <th>2</th>\n",
       "      <td>2</td>\n",
       "      <td>2017-09-12 23:54:19+00:00</td>\n",
       "      <td>907754276415557633</td>\n",
       "      <td>944251843</td>\n",
       "      <td>907754276415557633</td>\n",
       "      <td>propio</td>\n",
       "      <td>propio_original</td>\n",
       "      <td>{'mentions': [{'start': 8, 'end': 18, 'username': 'ISSSTE_mx'}], 'urls': [{'start': 89, 'end': 112, 'url': 'https://t.co/bStv6MRvfz', 'expanded_url': 'http://alternativamex.com/alternativa-centros-de-acopio-en-la-ciudad-de-mexico/', 'display_url': 'alternativamex.com/alternativa-ce…'}, {'start': 113, 'end': 136, 'url': 'https://t.co/WVlV0YtyTs', 'expanded_url': 'https://twitter.com/AlexNavaMx/status/907754276415557633/photo/1', 'display_url': 'pic.twitter.com/WVlV0YtyTs'}], 'hashtags': [{'start': 19, 'end': 35, 'tag': 'CentrosDeAcopio'}, {'start': 42, 'end': 47, 'tag': 'CDMX'}, {'start': 79, 'end': 85, 'tag': 'Sismo'}]}</td>\n",
       "      <td>Instala @ISSSTE_mx #CentrosDeAcopio en la #CDMX para apoyar a afectados por el #Sismo -  https://t.co/bStv6MRvfz https://t.co/WVlV0YtyTs</td>\n",
       "      <td>AlexNavaMx</td>\n",
       "    </tr>\n",
       "    <tr>\n",
       "      <th>3</th>\n",
       "      <td>3</td>\n",
       "      <td>2017-09-12 23:54:18+00:00</td>\n",
       "      <td>907754271847968768</td>\n",
       "      <td>705194891588964352</td>\n",
       "      <td>907754271847968768</td>\n",
       "      <td>propio</td>\n",
       "      <td>propio_original</td>\n",
       "      <td>{'mentions': [{'start': 8, 'end': 18, 'username': 'ISSSTE_mx'}], 'urls': [{'start': 89, 'end': 112, 'url': 'https://t.co/VFZCMk7WRN', 'expanded_url': 'http://alternativamex.com/alternativa-centros-de-acopio-en-la-ciudad-de-mexico/', 'display_url': 'alternativamex.com/alternativa-ce…'}, {'start': 113, 'end': 136, 'url': 'https://t.co/S5E5e31BDm', 'expanded_url': 'https://twitter.com/AlternativaGDM/status/907754271847968768/photo/1', 'display_url': 'pic.twitter.com/S5E5e31BDm'}], 'hashtags': [{'start': 19, 'end': 35, 'tag': 'CentrosDeAcopio'}, {'start': 42, 'end': 47, 'tag': 'CDMX'}, {'start': 79, 'end': 85, 'tag': 'Sismo'}]}</td>\n",
       "      <td>Instala @ISSSTE_mx #CentrosDeAcopio en la #CDMX para apoyar a afectados por el #Sismo -  https://t.co/VFZCMk7WRN https://t.co/S5E5e31BDm</td>\n",
       "      <td>AlternativaGDM</td>\n",
       "    </tr>\n",
       "    <tr>\n",
       "      <th>4</th>\n",
       "      <td>4</td>\n",
       "      <td>2017-09-12 23:53:12+00:00</td>\n",
       "      <td>907753994147254272</td>\n",
       "      <td>2369573840</td>\n",
       "      <td>907753994147254272</td>\n",
       "      <td>propio</td>\n",
       "      <td>[{'type': 'retweeted', 'id': '907325508412682242'}]</td>\n",
       "      <td>{'mentions': [{'start': 3, 'end': 9, 'username': 'CFEmx'}], 'hashtags': [{'start': 27, 'end': 43, 'tag': 'CentrosDeAcopio'}, {'start': 50, 'end': 55, 'tag': 'CDMX'}, {'start': 86, 'end': 93, 'tag': 'Oaxaca'}, {'start': 96, 'end': 104, 'tag': 'Chiapas'}, {'start': 121, 'end': 127, 'tag': 'sismo'}]}</td>\n",
       "      <td>RT @CFEmx: A sus órdenes 7 #CentrosDeAcopio en la #CDMX para apoyar a la población de #Oaxaca y #Chiapas afectada por el #sismo consulta: h…</td>\n",
       "      <td>AIBMontesDeOca</td>\n",
       "    </tr>\n",
       "  </tbody>\n",
       "</table>\n",
       "</div>"
      ],
      "text/plain": [
       "   unamed                created_at                  id           author_id  \\\n",
       "0       0 2017-09-12 23:59:02+00:00  907755462241775617          1380764066   \n",
       "1       1 2017-09-12 23:54:55+00:00  907754428371005441          1380764066   \n",
       "2       2 2017-09-12 23:54:19+00:00  907754276415557633           944251843   \n",
       "3       3 2017-09-12 23:54:18+00:00  907754271847968768  705194891588964352   \n",
       "4       4 2017-09-12 23:53:12+00:00  907753994147254272          2369573840   \n",
       "\n",
       "      conversation_id referenced_tweets  \\\n",
       "0  907755462241775617            propio   \n",
       "1  907754428371005441            propio   \n",
       "2  907754276415557633            propio   \n",
       "3  907754271847968768            propio   \n",
       "4  907753994147254272            propio   \n",
       "\n",
       "                                      reply_to_user_id  \\\n",
       "0                                      propio_original   \n",
       "1                                      propio_original   \n",
       "2                                      propio_original   \n",
       "3                                      propio_original   \n",
       "4  [{'type': 'retweeted', 'id': '907325508412682242'}]   \n",
       "\n",
       "                                                                                                                                                                                                                                                                                                                                                                                                                                                                                                                                                                                                                                                  entities  \\\n",
       "0                                                                                                                                                                                                            {'annotations': [{'start': 59, 'end': 64, 'probability': 0.9962, 'type': 'Place', 'normalized_text': 'México'}], 'urls': [{'start': 90, 'end': 113, 'url': 'https://t.co/SQzgN5sjgJ', 'expanded_url': 'http://capital-cdmx.org/nota-Se-registra-el-sismo-mas-fuerte-en-100-anos-en-Mexico--reportan-cinco-muertos-20178952', 'display_url': 'capital-cdmx.org/nota-Se-regist…'}], 'hashtags': [{'start': 0, 'end': 11, 'tag': 'LoMásLeído'}]}   \n",
       "1                                                                                                                                                                                                           {'annotations': [{'start': 44, 'end': 55, 'probability': 0.5233, 'type': 'Place', 'normalized_text': 'Capital CDMX'}], 'urls': [{'start': 77, 'end': 100, 'url': 'https://t.co/A5eky5Rp5g', 'expanded_url': 'https://capital-cdmx.org/nota-19-planteles-de-la-Capital-CDMX-afectados-por-sismo-seran-reubicados-201710946', 'display_url': 'capital-cdmx.org/nota-19-plante…'}], 'hashtags': [{'start': 0, 'end': 13, 'tag': 'EntérateCDMX'}]}   \n",
       "2      {'mentions': [{'start': 8, 'end': 18, 'username': 'ISSSTE_mx'}], 'urls': [{'start': 89, 'end': 112, 'url': 'https://t.co/bStv6MRvfz', 'expanded_url': 'http://alternativamex.com/alternativa-centros-de-acopio-en-la-ciudad-de-mexico/', 'display_url': 'alternativamex.com/alternativa-ce…'}, {'start': 113, 'end': 136, 'url': 'https://t.co/WVlV0YtyTs', 'expanded_url': 'https://twitter.com/AlexNavaMx/status/907754276415557633/photo/1', 'display_url': 'pic.twitter.com/WVlV0YtyTs'}], 'hashtags': [{'start': 19, 'end': 35, 'tag': 'CentrosDeAcopio'}, {'start': 42, 'end': 47, 'tag': 'CDMX'}, {'start': 79, 'end': 85, 'tag': 'Sismo'}]}   \n",
       "3  {'mentions': [{'start': 8, 'end': 18, 'username': 'ISSSTE_mx'}], 'urls': [{'start': 89, 'end': 112, 'url': 'https://t.co/VFZCMk7WRN', 'expanded_url': 'http://alternativamex.com/alternativa-centros-de-acopio-en-la-ciudad-de-mexico/', 'display_url': 'alternativamex.com/alternativa-ce…'}, {'start': 113, 'end': 136, 'url': 'https://t.co/S5E5e31BDm', 'expanded_url': 'https://twitter.com/AlternativaGDM/status/907754271847968768/photo/1', 'display_url': 'pic.twitter.com/S5E5e31BDm'}], 'hashtags': [{'start': 19, 'end': 35, 'tag': 'CentrosDeAcopio'}, {'start': 42, 'end': 47, 'tag': 'CDMX'}, {'start': 79, 'end': 85, 'tag': 'Sismo'}]}   \n",
       "4                                                                                                                                                                                                                                                                                                                                               {'mentions': [{'start': 3, 'end': 9, 'username': 'CFEmx'}], 'hashtags': [{'start': 27, 'end': 43, 'tag': 'CentrosDeAcopio'}, {'start': 50, 'end': 55, 'tag': 'CDMX'}, {'start': 86, 'end': 93, 'tag': 'Oaxaca'}, {'start': 96, 'end': 104, 'tag': 'Chiapas'}, {'start': 121, 'end': 127, 'tag': 'sismo'}]}   \n",
       "\n",
       "                                                                                                                                           text  \\\n",
       "0                             #LoMásLeído Se registra el sismo más fuerte en 100 años en México; reportan cinco muertos https://t.co/SQzgN5sjgJ   \n",
       "1                                          #EntérateCDMX Reubican a 19 planteles de la Capital CDMX afectados por sismo https://t.co/A5eky5Rp5g   \n",
       "2      Instala @ISSSTE_mx #CentrosDeAcopio en la #CDMX para apoyar a afectados por el #Sismo -  https://t.co/bStv6MRvfz https://t.co/WVlV0YtyTs   \n",
       "3      Instala @ISSSTE_mx #CentrosDeAcopio en la #CDMX para apoyar a afectados por el #Sismo -  https://t.co/VFZCMk7WRN https://t.co/S5E5e31BDm   \n",
       "4  RT @CFEmx: A sus órdenes 7 #CentrosDeAcopio en la #CDMX para apoyar a la población de #Oaxaca y #Chiapas afectada por el #sismo consulta: h…   \n",
       "\n",
       "         username  \n",
       "0      CapitalMX_  \n",
       "1      CapitalMX_  \n",
       "2      AlexNavaMx  \n",
       "3  AlternativaGDM  \n",
       "4  AIBMontesDeOca  "
      ]
     },
     "execution_count": 9,
     "metadata": {},
     "output_type": "execute_result"
    }
   ],
   "source": [
    "df.head(5)"
   ]
  },
  {
   "cell_type": "code",
   "execution_count": 10,
   "metadata": {},
   "outputs": [
    {
     "data": {
      "text/plain": [
       "494"
      ]
     },
     "execution_count": 10,
     "metadata": {},
     "output_type": "execute_result"
    }
   ],
   "source": [
    "df['created_at'].nunique()"
   ]
  },
  {
   "cell_type": "code",
   "execution_count": 11,
   "metadata": {},
   "outputs": [
    {
     "data": {
      "text/plain": [
       "506"
      ]
     },
     "execution_count": 11,
     "metadata": {},
     "output_type": "execute_result"
    }
   ],
   "source": [
    "df['id'].nunique()"
   ]
  },
  {
   "cell_type": "code",
   "execution_count": 12,
   "metadata": {},
   "outputs": [
    {
     "data": {
      "text/plain": [
       "330"
      ]
     },
     "execution_count": 12,
     "metadata": {},
     "output_type": "execute_result"
    }
   ],
   "source": [
    "df['text'].nunique()"
   ]
  },
  {
   "cell_type": "code",
   "execution_count": 13,
   "metadata": {},
   "outputs": [
    {
     "data": {
      "text/plain": [
       "'#EntérateCDMX Reubican a 19 planteles de la Capital CDMX afectados por sismo https://t.co/A5eky5Rp5g'"
      ]
     },
     "execution_count": 13,
     "metadata": {},
     "output_type": "execute_result"
    }
   ],
   "source": [
    "df['text'][1]"
   ]
  },
  {
   "cell_type": "markdown",
   "metadata": {},
   "source": [
    "### Creando el user_name"
   ]
  },
  {
   "cell_type": "code",
   "execution_count": 14,
   "metadata": {},
   "outputs": [],
   "source": [
    "df['usuarios_mencionados'] = df['text'].str.findall(r'@[\\S]+').apply(lambda x : ', '.join(x))"
   ]
  },
  {
   "cell_type": "code",
   "execution_count": 15,
   "metadata": {},
   "outputs": [
    {
     "data": {
      "text/html": [
       "<div>\n",
       "<style scoped>\n",
       "    .dataframe tbody tr th:only-of-type {\n",
       "        vertical-align: middle;\n",
       "    }\n",
       "\n",
       "    .dataframe tbody tr th {\n",
       "        vertical-align: top;\n",
       "    }\n",
       "\n",
       "    .dataframe thead th {\n",
       "        text-align: right;\n",
       "    }\n",
       "</style>\n",
       "<table border=\"1\" class=\"dataframe\">\n",
       "  <thead>\n",
       "    <tr style=\"text-align: right;\">\n",
       "      <th></th>\n",
       "      <th>unamed</th>\n",
       "      <th>created_at</th>\n",
       "      <th>id</th>\n",
       "      <th>author_id</th>\n",
       "      <th>conversation_id</th>\n",
       "      <th>referenced_tweets</th>\n",
       "      <th>reply_to_user_id</th>\n",
       "      <th>entities</th>\n",
       "      <th>text</th>\n",
       "      <th>username</th>\n",
       "      <th>usuarios_mencionados</th>\n",
       "    </tr>\n",
       "  </thead>\n",
       "  <tbody>\n",
       "    <tr>\n",
       "      <th>0</th>\n",
       "      <td>0</td>\n",
       "      <td>2017-09-12 23:59:02+00:00</td>\n",
       "      <td>907755462241775617</td>\n",
       "      <td>1380764066</td>\n",
       "      <td>907755462241775617</td>\n",
       "      <td>propio</td>\n",
       "      <td>propio_original</td>\n",
       "      <td>{'annotations': [{'start': 59, 'end': 64, 'probability': 0.9962, 'type': 'Place', 'normalized_text': 'México'}], 'urls': [{'start': 90, 'end': 113, 'url': 'https://t.co/SQzgN5sjgJ', 'expanded_url': 'http://capital-cdmx.org/nota-Se-registra-el-sismo-mas-fuerte-en-100-anos-en-Mexico--reportan-cinco-muertos-20178952', 'display_url': 'capital-cdmx.org/nota-Se-regist…'}], 'hashtags': [{'start': 0, 'end': 11, 'tag': 'LoMásLeído'}]}</td>\n",
       "      <td>#LoMásLeído Se registra el sismo más fuerte en 100 años en México; reportan cinco muertos https://t.co/SQzgN5sjgJ</td>\n",
       "      <td>CapitalMX_</td>\n",
       "      <td></td>\n",
       "    </tr>\n",
       "    <tr>\n",
       "      <th>1</th>\n",
       "      <td>1</td>\n",
       "      <td>2017-09-12 23:54:55+00:00</td>\n",
       "      <td>907754428371005441</td>\n",
       "      <td>1380764066</td>\n",
       "      <td>907754428371005441</td>\n",
       "      <td>propio</td>\n",
       "      <td>propio_original</td>\n",
       "      <td>{'annotations': [{'start': 44, 'end': 55, 'probability': 0.5233, 'type': 'Place', 'normalized_text': 'Capital CDMX'}], 'urls': [{'start': 77, 'end': 100, 'url': 'https://t.co/A5eky5Rp5g', 'expanded_url': 'https://capital-cdmx.org/nota-19-planteles-de-la-Capital-CDMX-afectados-por-sismo-seran-reubicados-201710946', 'display_url': 'capital-cdmx.org/nota-19-plante…'}], 'hashtags': [{'start': 0, 'end': 13, 'tag': 'EntérateCDMX'}]}</td>\n",
       "      <td>#EntérateCDMX Reubican a 19 planteles de la Capital CDMX afectados por sismo https://t.co/A5eky5Rp5g</td>\n",
       "      <td>CapitalMX_</td>\n",
       "      <td></td>\n",
       "    </tr>\n",
       "    <tr>\n",
       "      <th>2</th>\n",
       "      <td>2</td>\n",
       "      <td>2017-09-12 23:54:19+00:00</td>\n",
       "      <td>907754276415557633</td>\n",
       "      <td>944251843</td>\n",
       "      <td>907754276415557633</td>\n",
       "      <td>propio</td>\n",
       "      <td>propio_original</td>\n",
       "      <td>{'mentions': [{'start': 8, 'end': 18, 'username': 'ISSSTE_mx'}], 'urls': [{'start': 89, 'end': 112, 'url': 'https://t.co/bStv6MRvfz', 'expanded_url': 'http://alternativamex.com/alternativa-centros-de-acopio-en-la-ciudad-de-mexico/', 'display_url': 'alternativamex.com/alternativa-ce…'}, {'start': 113, 'end': 136, 'url': 'https://t.co/WVlV0YtyTs', 'expanded_url': 'https://twitter.com/AlexNavaMx/status/907754276415557633/photo/1', 'display_url': 'pic.twitter.com/WVlV0YtyTs'}], 'hashtags': [{'start': 19, 'end': 35, 'tag': 'CentrosDeAcopio'}, {'start': 42, 'end': 47, 'tag': 'CDMX'}, {'start': 79, 'end': 85, 'tag': 'Sismo'}]}</td>\n",
       "      <td>Instala @ISSSTE_mx #CentrosDeAcopio en la #CDMX para apoyar a afectados por el #Sismo -  https://t.co/bStv6MRvfz https://t.co/WVlV0YtyTs</td>\n",
       "      <td>AlexNavaMx</td>\n",
       "      <td>@ISSSTE_mx</td>\n",
       "    </tr>\n",
       "    <tr>\n",
       "      <th>3</th>\n",
       "      <td>3</td>\n",
       "      <td>2017-09-12 23:54:18+00:00</td>\n",
       "      <td>907754271847968768</td>\n",
       "      <td>705194891588964352</td>\n",
       "      <td>907754271847968768</td>\n",
       "      <td>propio</td>\n",
       "      <td>propio_original</td>\n",
       "      <td>{'mentions': [{'start': 8, 'end': 18, 'username': 'ISSSTE_mx'}], 'urls': [{'start': 89, 'end': 112, 'url': 'https://t.co/VFZCMk7WRN', 'expanded_url': 'http://alternativamex.com/alternativa-centros-de-acopio-en-la-ciudad-de-mexico/', 'display_url': 'alternativamex.com/alternativa-ce…'}, {'start': 113, 'end': 136, 'url': 'https://t.co/S5E5e31BDm', 'expanded_url': 'https://twitter.com/AlternativaGDM/status/907754271847968768/photo/1', 'display_url': 'pic.twitter.com/S5E5e31BDm'}], 'hashtags': [{'start': 19, 'end': 35, 'tag': 'CentrosDeAcopio'}, {'start': 42, 'end': 47, 'tag': 'CDMX'}, {'start': 79, 'end': 85, 'tag': 'Sismo'}]}</td>\n",
       "      <td>Instala @ISSSTE_mx #CentrosDeAcopio en la #CDMX para apoyar a afectados por el #Sismo -  https://t.co/VFZCMk7WRN https://t.co/S5E5e31BDm</td>\n",
       "      <td>AlternativaGDM</td>\n",
       "      <td>@ISSSTE_mx</td>\n",
       "    </tr>\n",
       "    <tr>\n",
       "      <th>4</th>\n",
       "      <td>4</td>\n",
       "      <td>2017-09-12 23:53:12+00:00</td>\n",
       "      <td>907753994147254272</td>\n",
       "      <td>2369573840</td>\n",
       "      <td>907753994147254272</td>\n",
       "      <td>propio</td>\n",
       "      <td>[{'type': 'retweeted', 'id': '907325508412682242'}]</td>\n",
       "      <td>{'mentions': [{'start': 3, 'end': 9, 'username': 'CFEmx'}], 'hashtags': [{'start': 27, 'end': 43, 'tag': 'CentrosDeAcopio'}, {'start': 50, 'end': 55, 'tag': 'CDMX'}, {'start': 86, 'end': 93, 'tag': 'Oaxaca'}, {'start': 96, 'end': 104, 'tag': 'Chiapas'}, {'start': 121, 'end': 127, 'tag': 'sismo'}]}</td>\n",
       "      <td>RT @CFEmx: A sus órdenes 7 #CentrosDeAcopio en la #CDMX para apoyar a la población de #Oaxaca y #Chiapas afectada por el #sismo consulta: h…</td>\n",
       "      <td>AIBMontesDeOca</td>\n",
       "      <td>@CFEmx:</td>\n",
       "    </tr>\n",
       "  </tbody>\n",
       "</table>\n",
       "</div>"
      ],
      "text/plain": [
       "   unamed                created_at                  id           author_id  \\\n",
       "0       0 2017-09-12 23:59:02+00:00  907755462241775617          1380764066   \n",
       "1       1 2017-09-12 23:54:55+00:00  907754428371005441          1380764066   \n",
       "2       2 2017-09-12 23:54:19+00:00  907754276415557633           944251843   \n",
       "3       3 2017-09-12 23:54:18+00:00  907754271847968768  705194891588964352   \n",
       "4       4 2017-09-12 23:53:12+00:00  907753994147254272          2369573840   \n",
       "\n",
       "      conversation_id referenced_tweets  \\\n",
       "0  907755462241775617            propio   \n",
       "1  907754428371005441            propio   \n",
       "2  907754276415557633            propio   \n",
       "3  907754271847968768            propio   \n",
       "4  907753994147254272            propio   \n",
       "\n",
       "                                      reply_to_user_id  \\\n",
       "0                                      propio_original   \n",
       "1                                      propio_original   \n",
       "2                                      propio_original   \n",
       "3                                      propio_original   \n",
       "4  [{'type': 'retweeted', 'id': '907325508412682242'}]   \n",
       "\n",
       "                                                                                                                                                                                                                                                                                                                                                                                                                                                                                                                                                                                                                                                  entities  \\\n",
       "0                                                                                                                                                                                                            {'annotations': [{'start': 59, 'end': 64, 'probability': 0.9962, 'type': 'Place', 'normalized_text': 'México'}], 'urls': [{'start': 90, 'end': 113, 'url': 'https://t.co/SQzgN5sjgJ', 'expanded_url': 'http://capital-cdmx.org/nota-Se-registra-el-sismo-mas-fuerte-en-100-anos-en-Mexico--reportan-cinco-muertos-20178952', 'display_url': 'capital-cdmx.org/nota-Se-regist…'}], 'hashtags': [{'start': 0, 'end': 11, 'tag': 'LoMásLeído'}]}   \n",
       "1                                                                                                                                                                                                           {'annotations': [{'start': 44, 'end': 55, 'probability': 0.5233, 'type': 'Place', 'normalized_text': 'Capital CDMX'}], 'urls': [{'start': 77, 'end': 100, 'url': 'https://t.co/A5eky5Rp5g', 'expanded_url': 'https://capital-cdmx.org/nota-19-planteles-de-la-Capital-CDMX-afectados-por-sismo-seran-reubicados-201710946', 'display_url': 'capital-cdmx.org/nota-19-plante…'}], 'hashtags': [{'start': 0, 'end': 13, 'tag': 'EntérateCDMX'}]}   \n",
       "2      {'mentions': [{'start': 8, 'end': 18, 'username': 'ISSSTE_mx'}], 'urls': [{'start': 89, 'end': 112, 'url': 'https://t.co/bStv6MRvfz', 'expanded_url': 'http://alternativamex.com/alternativa-centros-de-acopio-en-la-ciudad-de-mexico/', 'display_url': 'alternativamex.com/alternativa-ce…'}, {'start': 113, 'end': 136, 'url': 'https://t.co/WVlV0YtyTs', 'expanded_url': 'https://twitter.com/AlexNavaMx/status/907754276415557633/photo/1', 'display_url': 'pic.twitter.com/WVlV0YtyTs'}], 'hashtags': [{'start': 19, 'end': 35, 'tag': 'CentrosDeAcopio'}, {'start': 42, 'end': 47, 'tag': 'CDMX'}, {'start': 79, 'end': 85, 'tag': 'Sismo'}]}   \n",
       "3  {'mentions': [{'start': 8, 'end': 18, 'username': 'ISSSTE_mx'}], 'urls': [{'start': 89, 'end': 112, 'url': 'https://t.co/VFZCMk7WRN', 'expanded_url': 'http://alternativamex.com/alternativa-centros-de-acopio-en-la-ciudad-de-mexico/', 'display_url': 'alternativamex.com/alternativa-ce…'}, {'start': 113, 'end': 136, 'url': 'https://t.co/S5E5e31BDm', 'expanded_url': 'https://twitter.com/AlternativaGDM/status/907754271847968768/photo/1', 'display_url': 'pic.twitter.com/S5E5e31BDm'}], 'hashtags': [{'start': 19, 'end': 35, 'tag': 'CentrosDeAcopio'}, {'start': 42, 'end': 47, 'tag': 'CDMX'}, {'start': 79, 'end': 85, 'tag': 'Sismo'}]}   \n",
       "4                                                                                                                                                                                                                                                                                                                                               {'mentions': [{'start': 3, 'end': 9, 'username': 'CFEmx'}], 'hashtags': [{'start': 27, 'end': 43, 'tag': 'CentrosDeAcopio'}, {'start': 50, 'end': 55, 'tag': 'CDMX'}, {'start': 86, 'end': 93, 'tag': 'Oaxaca'}, {'start': 96, 'end': 104, 'tag': 'Chiapas'}, {'start': 121, 'end': 127, 'tag': 'sismo'}]}   \n",
       "\n",
       "                                                                                                                                           text  \\\n",
       "0                             #LoMásLeído Se registra el sismo más fuerte en 100 años en México; reportan cinco muertos https://t.co/SQzgN5sjgJ   \n",
       "1                                          #EntérateCDMX Reubican a 19 planteles de la Capital CDMX afectados por sismo https://t.co/A5eky5Rp5g   \n",
       "2      Instala @ISSSTE_mx #CentrosDeAcopio en la #CDMX para apoyar a afectados por el #Sismo -  https://t.co/bStv6MRvfz https://t.co/WVlV0YtyTs   \n",
       "3      Instala @ISSSTE_mx #CentrosDeAcopio en la #CDMX para apoyar a afectados por el #Sismo -  https://t.co/VFZCMk7WRN https://t.co/S5E5e31BDm   \n",
       "4  RT @CFEmx: A sus órdenes 7 #CentrosDeAcopio en la #CDMX para apoyar a la población de #Oaxaca y #Chiapas afectada por el #sismo consulta: h…   \n",
       "\n",
       "         username usuarios_mencionados  \n",
       "0      CapitalMX_                       \n",
       "1      CapitalMX_                       \n",
       "2      AlexNavaMx           @ISSSTE_mx  \n",
       "3  AlternativaGDM           @ISSSTE_mx  \n",
       "4  AIBMontesDeOca              @CFEmx:  "
      ]
     },
     "execution_count": 15,
     "metadata": {},
     "output_type": "execute_result"
    }
   ],
   "source": [
    "df.head(5)"
   ]
  },
  {
   "cell_type": "code",
   "execution_count": 16,
   "metadata": {},
   "outputs": [],
   "source": [
    "def quitar_caracteres_extra(frase):\n",
    "    usuario_tweet = str(re.sub(':', '', frase))\n",
    "    usuario_tweet = str(re.sub('@', '', usuario_tweet))\n",
    "    return usuario_tweet"
   ]
  },
  {
   "cell_type": "code",
   "execution_count": 17,
   "metadata": {},
   "outputs": [],
   "source": [
    "df['usuarios_mencionados'] = df['usuarios_mencionados'].map(lambda s: quitar_caracteres_extra(s))"
   ]
  },
  {
   "cell_type": "code",
   "execution_count": 20,
   "metadata": {},
   "outputs": [
    {
     "data": {
      "text/html": [
       "<div>\n",
       "<style scoped>\n",
       "    .dataframe tbody tr th:only-of-type {\n",
       "        vertical-align: middle;\n",
       "    }\n",
       "\n",
       "    .dataframe tbody tr th {\n",
       "        vertical-align: top;\n",
       "    }\n",
       "\n",
       "    .dataframe thead th {\n",
       "        text-align: right;\n",
       "    }\n",
       "</style>\n",
       "<table border=\"1\" class=\"dataframe\">\n",
       "  <thead>\n",
       "    <tr style=\"text-align: right;\">\n",
       "      <th></th>\n",
       "      <th>unamed</th>\n",
       "      <th>created_at</th>\n",
       "      <th>id</th>\n",
       "      <th>author_id</th>\n",
       "      <th>conversation_id</th>\n",
       "      <th>referenced_tweets</th>\n",
       "      <th>reply_to_user_id</th>\n",
       "      <th>entities</th>\n",
       "      <th>text</th>\n",
       "      <th>username</th>\n",
       "      <th>usuarios_mencionados</th>\n",
       "    </tr>\n",
       "  </thead>\n",
       "  <tbody>\n",
       "    <tr>\n",
       "      <th>0</th>\n",
       "      <td>0</td>\n",
       "      <td>2017-09-12 23:59:02+00:00</td>\n",
       "      <td>907755462241775617</td>\n",
       "      <td>1380764066</td>\n",
       "      <td>907755462241775617</td>\n",
       "      <td>propio</td>\n",
       "      <td>propio_original</td>\n",
       "      <td>{'annotations': [{'start': 59, 'end': 64, 'probability': 0.9962, 'type': 'Place', 'normalized_text': 'México'}], 'urls': [{'start': 90, 'end': 113, 'url': 'https://t.co/SQzgN5sjgJ', 'expanded_url': 'http://capital-cdmx.org/nota-Se-registra-el-sismo-mas-fuerte-en-100-anos-en-Mexico--reportan-cinco-muertos-20178952', 'display_url': 'capital-cdmx.org/nota-Se-regist…'}], 'hashtags': [{'start': 0, 'end': 11, 'tag': 'LoMásLeído'}]}</td>\n",
       "      <td>#LoMásLeído Se registra el sismo más fuerte en 100 años en México; reportan cinco muertos https://t.co/SQzgN5sjgJ</td>\n",
       "      <td>CapitalMX_</td>\n",
       "      <td></td>\n",
       "    </tr>\n",
       "    <tr>\n",
       "      <th>1</th>\n",
       "      <td>1</td>\n",
       "      <td>2017-09-12 23:54:55+00:00</td>\n",
       "      <td>907754428371005441</td>\n",
       "      <td>1380764066</td>\n",
       "      <td>907754428371005441</td>\n",
       "      <td>propio</td>\n",
       "      <td>propio_original</td>\n",
       "      <td>{'annotations': [{'start': 44, 'end': 55, 'probability': 0.5233, 'type': 'Place', 'normalized_text': 'Capital CDMX'}], 'urls': [{'start': 77, 'end': 100, 'url': 'https://t.co/A5eky5Rp5g', 'expanded_url': 'https://capital-cdmx.org/nota-19-planteles-de-la-Capital-CDMX-afectados-por-sismo-seran-reubicados-201710946', 'display_url': 'capital-cdmx.org/nota-19-plante…'}], 'hashtags': [{'start': 0, 'end': 13, 'tag': 'EntérateCDMX'}]}</td>\n",
       "      <td>#EntérateCDMX Reubican a 19 planteles de la Capital CDMX afectados por sismo https://t.co/A5eky5Rp5g</td>\n",
       "      <td>CapitalMX_</td>\n",
       "      <td></td>\n",
       "    </tr>\n",
       "    <tr>\n",
       "      <th>2</th>\n",
       "      <td>2</td>\n",
       "      <td>2017-09-12 23:54:19+00:00</td>\n",
       "      <td>907754276415557633</td>\n",
       "      <td>944251843</td>\n",
       "      <td>907754276415557633</td>\n",
       "      <td>propio</td>\n",
       "      <td>propio_original</td>\n",
       "      <td>{'mentions': [{'start': 8, 'end': 18, 'username': 'ISSSTE_mx'}], 'urls': [{'start': 89, 'end': 112, 'url': 'https://t.co/bStv6MRvfz', 'expanded_url': 'http://alternativamex.com/alternativa-centros-de-acopio-en-la-ciudad-de-mexico/', 'display_url': 'alternativamex.com/alternativa-ce…'}, {'start': 113, 'end': 136, 'url': 'https://t.co/WVlV0YtyTs', 'expanded_url': 'https://twitter.com/AlexNavaMx/status/907754276415557633/photo/1', 'display_url': 'pic.twitter.com/WVlV0YtyTs'}], 'hashtags': [{'start': 19, 'end': 35, 'tag': 'CentrosDeAcopio'}, {'start': 42, 'end': 47, 'tag': 'CDMX'}, {'start': 79, 'end': 85, 'tag': 'Sismo'}]}</td>\n",
       "      <td>Instala @ISSSTE_mx #CentrosDeAcopio en la #CDMX para apoyar a afectados por el #Sismo -  https://t.co/bStv6MRvfz https://t.co/WVlV0YtyTs</td>\n",
       "      <td>AlexNavaMx</td>\n",
       "      <td>ISSSTE_mx</td>\n",
       "    </tr>\n",
       "    <tr>\n",
       "      <th>3</th>\n",
       "      <td>3</td>\n",
       "      <td>2017-09-12 23:54:18+00:00</td>\n",
       "      <td>907754271847968768</td>\n",
       "      <td>705194891588964352</td>\n",
       "      <td>907754271847968768</td>\n",
       "      <td>propio</td>\n",
       "      <td>propio_original</td>\n",
       "      <td>{'mentions': [{'start': 8, 'end': 18, 'username': 'ISSSTE_mx'}], 'urls': [{'start': 89, 'end': 112, 'url': 'https://t.co/VFZCMk7WRN', 'expanded_url': 'http://alternativamex.com/alternativa-centros-de-acopio-en-la-ciudad-de-mexico/', 'display_url': 'alternativamex.com/alternativa-ce…'}, {'start': 113, 'end': 136, 'url': 'https://t.co/S5E5e31BDm', 'expanded_url': 'https://twitter.com/AlternativaGDM/status/907754271847968768/photo/1', 'display_url': 'pic.twitter.com/S5E5e31BDm'}], 'hashtags': [{'start': 19, 'end': 35, 'tag': 'CentrosDeAcopio'}, {'start': 42, 'end': 47, 'tag': 'CDMX'}, {'start': 79, 'end': 85, 'tag': 'Sismo'}]}</td>\n",
       "      <td>Instala @ISSSTE_mx #CentrosDeAcopio en la #CDMX para apoyar a afectados por el #Sismo -  https://t.co/VFZCMk7WRN https://t.co/S5E5e31BDm</td>\n",
       "      <td>AlternativaGDM</td>\n",
       "      <td>ISSSTE_mx</td>\n",
       "    </tr>\n",
       "    <tr>\n",
       "      <th>4</th>\n",
       "      <td>4</td>\n",
       "      <td>2017-09-12 23:53:12+00:00</td>\n",
       "      <td>907753994147254272</td>\n",
       "      <td>2369573840</td>\n",
       "      <td>907753994147254272</td>\n",
       "      <td>propio</td>\n",
       "      <td>[{'type': 'retweeted', 'id': '907325508412682242'}]</td>\n",
       "      <td>{'mentions': [{'start': 3, 'end': 9, 'username': 'CFEmx'}], 'hashtags': [{'start': 27, 'end': 43, 'tag': 'CentrosDeAcopio'}, {'start': 50, 'end': 55, 'tag': 'CDMX'}, {'start': 86, 'end': 93, 'tag': 'Oaxaca'}, {'start': 96, 'end': 104, 'tag': 'Chiapas'}, {'start': 121, 'end': 127, 'tag': 'sismo'}]}</td>\n",
       "      <td>RT @CFEmx: A sus órdenes 7 #CentrosDeAcopio en la #CDMX para apoyar a la población de #Oaxaca y #Chiapas afectada por el #sismo consulta: h…</td>\n",
       "      <td>AIBMontesDeOca</td>\n",
       "      <td>CFEmx</td>\n",
       "    </tr>\n",
       "    <tr>\n",
       "      <th>5</th>\n",
       "      <td>5</td>\n",
       "      <td>2017-09-12 23:46:08+00:00</td>\n",
       "      <td>907752218098626560</td>\n",
       "      <td>766351022159699968</td>\n",
       "      <td>907752218098626560</td>\n",
       "      <td>propio</td>\n",
       "      <td>[{'type': 'retweeted', 'id': '907701576420261888'}]</td>\n",
       "      <td>{'mentions': [{'start': 3, 'end': 16, 'username': 'JuanCLastiri'}, {'start': 37, 'end': 47, 'username': 'SEDATU_mx'}], 'hashtags': [{'start': 51, 'end': 56, 'tag': 'CDMX'}, {'start': 130, 'end': 136, 'tag': 'Sismo'}]}</td>\n",
       "      <td>RT @JuanCLastiri: En las oficinas de @SEDATU_mx en #CDMX ya está instalado el centro de acopio para ayudar a los afectados por el #Sismo, #…</td>\n",
       "      <td>prepSEDATU</td>\n",
       "      <td>JuanCLastiri, SEDATU_mx</td>\n",
       "    </tr>\n",
       "    <tr>\n",
       "      <th>6</th>\n",
       "      <td>6</td>\n",
       "      <td>2017-09-12 23:45:44+00:00</td>\n",
       "      <td>907752115963035648</td>\n",
       "      <td>903087297729572864</td>\n",
       "      <td>907752115963035648</td>\n",
       "      <td>propio</td>\n",
       "      <td>[{'type': 'retweeted', 'id': '907114006783152129'}]</td>\n",
       "      <td>{'mentions': [{'start': 3, 'end': 11, 'username': 'Foro_TV'}], 'urls': [{'start': 98, 'end': 121, 'url': 'https://t.co/EUpgaFTx3Q', 'expanded_url': 'http://noticieros.televisa.com', 'display_url': 'noticieros.televisa.com'}], 'hashtags': [{'start': 78, 'end': 84, 'tag': 'sismo'}, {'start': 91, 'end': 96, 'tag': 'CDMX'}]}</td>\n",
       "      <td>RT @Foro_TV: ¿Dónde se puede acudir a donar víveres a los damnificados por el #sismo en la #CDMX? https://t.co/EUpgaFTx3Q https://t.co/Vcrc…</td>\n",
       "      <td>ClaudiaMunozpaz</td>\n",
       "      <td>Foro_TV</td>\n",
       "    </tr>\n",
       "    <tr>\n",
       "      <th>7</th>\n",
       "      <td>7</td>\n",
       "      <td>2017-09-12 23:44:47+00:00</td>\n",
       "      <td>907751879718793216</td>\n",
       "      <td>2298699182</td>\n",
       "      <td>907751879718793216</td>\n",
       "      <td>propio</td>\n",
       "      <td>propio_original</td>\n",
       "      <td>{'mentions': [{'start': 25, 'end': 35, 'username': 'ISSSTE_mx'}], 'urls': [{'start': 101, 'end': 124, 'url': 'https://t.co/oKMNn1Lzgp', 'expanded_url': 'https://twitter.com/Asieslanoticia/status/907751879718793216/photo/1', 'display_url': 'pic.twitter.com/oKMNn1Lzgp'}], 'hashtags': [{'start': 0, 'end': 15, 'tag': 'Asíeslanoticia'}, {'start': 57, 'end': 62, 'tag': 'CDMX'}]}</td>\n",
       "      <td>#Asíeslanoticia: Instala @ISSSTE_mx centros de acopio en #CDMX para apoyar a damnificados por sismo. https://t.co/oKMNn1Lzgp</td>\n",
       "      <td>Asieslanoticia</td>\n",
       "      <td>ISSSTE_mx</td>\n",
       "    </tr>\n",
       "    <tr>\n",
       "      <th>8</th>\n",
       "      <td>8</td>\n",
       "      <td>2017-09-12 23:41:58+00:00</td>\n",
       "      <td>907751170378227712</td>\n",
       "      <td>869052210696654848</td>\n",
       "      <td>907751170378227712</td>\n",
       "      <td>propio</td>\n",
       "      <td>[{'type': 'retweeted', 'id': '907750426937888768'}]</td>\n",
       "      <td>{'annotations': [{'start': 52, 'end': 63, 'probability': 0.3866, 'type': 'Place', 'normalized_text': 'Fuerza Aérea'}], 'mentions': [{'start': 3, 'end': 14, 'username': 'CapitalMX_'}], 'urls': [{'start': 112, 'end': 135, 'url': 'https://t.co/GOf04M5EYr', 'expanded_url': 'http://capital-cdmx.org/nota-Se-desploma-avion-de-la-Fuerza-Aerea-que-llevaba-ayuda-a-zona-afectada-por-el-sismo-201712927', 'display_url': 'capital-cdmx.org/nota-Se-desplo…'}], 'hashtags': [{'start': 16, 'end': 27, 'tag': 'LoMásLeído'}]}</td>\n",
       "      <td>RT @CapitalMX_: #LoMásLeído Se desploma avión de la Fuerza Aérea que llevaba ayuda a zona afectada por el sismo https://t.co/GOf04M5EYr</td>\n",
       "      <td>Dayanasalmon1</td>\n",
       "      <td>CapitalMX_</td>\n",
       "    </tr>\n",
       "    <tr>\n",
       "      <th>9</th>\n",
       "      <td>9</td>\n",
       "      <td>2017-09-12 23:39:08+00:00</td>\n",
       "      <td>907750456230805510</td>\n",
       "      <td>702206582</td>\n",
       "      <td>907750456230805510</td>\n",
       "      <td>propio</td>\n",
       "      <td>[{'type': 'retweeted', 'id': '906249767805648898'}]</td>\n",
       "      <td>{'mentions': [{'start': 3, 'end': 10, 'username': 'IIUNAM'}], 'hashtags': [{'start': 38, 'end': 43, 'tag': 'CDMX'}]}</td>\n",
       "      <td>RT @IIUNAM: El Sismo que sacudió a la #CDMX, el de mayor intensidad desde 1932: Servicio Sismológico Nacional. Nuestra nota https://t.co/Kx…</td>\n",
       "      <td>TaoCortes</td>\n",
       "      <td>IIUNAM</td>\n",
       "    </tr>\n",
       "  </tbody>\n",
       "</table>\n",
       "</div>"
      ],
      "text/plain": [
       "   unamed                created_at                  id           author_id  \\\n",
       "0       0 2017-09-12 23:59:02+00:00  907755462241775617          1380764066   \n",
       "1       1 2017-09-12 23:54:55+00:00  907754428371005441          1380764066   \n",
       "2       2 2017-09-12 23:54:19+00:00  907754276415557633           944251843   \n",
       "3       3 2017-09-12 23:54:18+00:00  907754271847968768  705194891588964352   \n",
       "4       4 2017-09-12 23:53:12+00:00  907753994147254272          2369573840   \n",
       "5       5 2017-09-12 23:46:08+00:00  907752218098626560  766351022159699968   \n",
       "6       6 2017-09-12 23:45:44+00:00  907752115963035648  903087297729572864   \n",
       "7       7 2017-09-12 23:44:47+00:00  907751879718793216          2298699182   \n",
       "8       8 2017-09-12 23:41:58+00:00  907751170378227712  869052210696654848   \n",
       "9       9 2017-09-12 23:39:08+00:00  907750456230805510           702206582   \n",
       "\n",
       "      conversation_id referenced_tweets  \\\n",
       "0  907755462241775617            propio   \n",
       "1  907754428371005441            propio   \n",
       "2  907754276415557633            propio   \n",
       "3  907754271847968768            propio   \n",
       "4  907753994147254272            propio   \n",
       "5  907752218098626560            propio   \n",
       "6  907752115963035648            propio   \n",
       "7  907751879718793216            propio   \n",
       "8  907751170378227712            propio   \n",
       "9  907750456230805510            propio   \n",
       "\n",
       "                                      reply_to_user_id  \\\n",
       "0                                      propio_original   \n",
       "1                                      propio_original   \n",
       "2                                      propio_original   \n",
       "3                                      propio_original   \n",
       "4  [{'type': 'retweeted', 'id': '907325508412682242'}]   \n",
       "5  [{'type': 'retweeted', 'id': '907701576420261888'}]   \n",
       "6  [{'type': 'retweeted', 'id': '907114006783152129'}]   \n",
       "7                                      propio_original   \n",
       "8  [{'type': 'retweeted', 'id': '907750426937888768'}]   \n",
       "9  [{'type': 'retweeted', 'id': '906249767805648898'}]   \n",
       "\n",
       "                                                                                                                                                                                                                                                                                                                                                                                                                                                                                                                                                                                                                                                  entities  \\\n",
       "0                                                                                                                                                                                                            {'annotations': [{'start': 59, 'end': 64, 'probability': 0.9962, 'type': 'Place', 'normalized_text': 'México'}], 'urls': [{'start': 90, 'end': 113, 'url': 'https://t.co/SQzgN5sjgJ', 'expanded_url': 'http://capital-cdmx.org/nota-Se-registra-el-sismo-mas-fuerte-en-100-anos-en-Mexico--reportan-cinco-muertos-20178952', 'display_url': 'capital-cdmx.org/nota-Se-regist…'}], 'hashtags': [{'start': 0, 'end': 11, 'tag': 'LoMásLeído'}]}   \n",
       "1                                                                                                                                                                                                           {'annotations': [{'start': 44, 'end': 55, 'probability': 0.5233, 'type': 'Place', 'normalized_text': 'Capital CDMX'}], 'urls': [{'start': 77, 'end': 100, 'url': 'https://t.co/A5eky5Rp5g', 'expanded_url': 'https://capital-cdmx.org/nota-19-planteles-de-la-Capital-CDMX-afectados-por-sismo-seran-reubicados-201710946', 'display_url': 'capital-cdmx.org/nota-19-plante…'}], 'hashtags': [{'start': 0, 'end': 13, 'tag': 'EntérateCDMX'}]}   \n",
       "2      {'mentions': [{'start': 8, 'end': 18, 'username': 'ISSSTE_mx'}], 'urls': [{'start': 89, 'end': 112, 'url': 'https://t.co/bStv6MRvfz', 'expanded_url': 'http://alternativamex.com/alternativa-centros-de-acopio-en-la-ciudad-de-mexico/', 'display_url': 'alternativamex.com/alternativa-ce…'}, {'start': 113, 'end': 136, 'url': 'https://t.co/WVlV0YtyTs', 'expanded_url': 'https://twitter.com/AlexNavaMx/status/907754276415557633/photo/1', 'display_url': 'pic.twitter.com/WVlV0YtyTs'}], 'hashtags': [{'start': 19, 'end': 35, 'tag': 'CentrosDeAcopio'}, {'start': 42, 'end': 47, 'tag': 'CDMX'}, {'start': 79, 'end': 85, 'tag': 'Sismo'}]}   \n",
       "3  {'mentions': [{'start': 8, 'end': 18, 'username': 'ISSSTE_mx'}], 'urls': [{'start': 89, 'end': 112, 'url': 'https://t.co/VFZCMk7WRN', 'expanded_url': 'http://alternativamex.com/alternativa-centros-de-acopio-en-la-ciudad-de-mexico/', 'display_url': 'alternativamex.com/alternativa-ce…'}, {'start': 113, 'end': 136, 'url': 'https://t.co/S5E5e31BDm', 'expanded_url': 'https://twitter.com/AlternativaGDM/status/907754271847968768/photo/1', 'display_url': 'pic.twitter.com/S5E5e31BDm'}], 'hashtags': [{'start': 19, 'end': 35, 'tag': 'CentrosDeAcopio'}, {'start': 42, 'end': 47, 'tag': 'CDMX'}, {'start': 79, 'end': 85, 'tag': 'Sismo'}]}   \n",
       "4                                                                                                                                                                                                                                                                                                                                               {'mentions': [{'start': 3, 'end': 9, 'username': 'CFEmx'}], 'hashtags': [{'start': 27, 'end': 43, 'tag': 'CentrosDeAcopio'}, {'start': 50, 'end': 55, 'tag': 'CDMX'}, {'start': 86, 'end': 93, 'tag': 'Oaxaca'}, {'start': 96, 'end': 104, 'tag': 'Chiapas'}, {'start': 121, 'end': 127, 'tag': 'sismo'}]}   \n",
       "5                                                                                                                                                                                                                                                                                                                                                                                                                                {'mentions': [{'start': 3, 'end': 16, 'username': 'JuanCLastiri'}, {'start': 37, 'end': 47, 'username': 'SEDATU_mx'}], 'hashtags': [{'start': 51, 'end': 56, 'tag': 'CDMX'}, {'start': 130, 'end': 136, 'tag': 'Sismo'}]}   \n",
       "6                                                                                                                                                                                                                                                                                                                       {'mentions': [{'start': 3, 'end': 11, 'username': 'Foro_TV'}], 'urls': [{'start': 98, 'end': 121, 'url': 'https://t.co/EUpgaFTx3Q', 'expanded_url': 'http://noticieros.televisa.com', 'display_url': 'noticieros.televisa.com'}], 'hashtags': [{'start': 78, 'end': 84, 'tag': 'sismo'}, {'start': 91, 'end': 96, 'tag': 'CDMX'}]}   \n",
       "7                                                                                                                                                                                                                                                                  {'mentions': [{'start': 25, 'end': 35, 'username': 'ISSSTE_mx'}], 'urls': [{'start': 101, 'end': 124, 'url': 'https://t.co/oKMNn1Lzgp', 'expanded_url': 'https://twitter.com/Asieslanoticia/status/907751879718793216/photo/1', 'display_url': 'pic.twitter.com/oKMNn1Lzgp'}], 'hashtags': [{'start': 0, 'end': 15, 'tag': 'Asíeslanoticia'}, {'start': 57, 'end': 62, 'tag': 'CDMX'}]}   \n",
       "8                                                                                                                            {'annotations': [{'start': 52, 'end': 63, 'probability': 0.3866, 'type': 'Place', 'normalized_text': 'Fuerza Aérea'}], 'mentions': [{'start': 3, 'end': 14, 'username': 'CapitalMX_'}], 'urls': [{'start': 112, 'end': 135, 'url': 'https://t.co/GOf04M5EYr', 'expanded_url': 'http://capital-cdmx.org/nota-Se-desploma-avion-de-la-Fuerza-Aerea-que-llevaba-ayuda-a-zona-afectada-por-el-sismo-201712927', 'display_url': 'capital-cdmx.org/nota-Se-desplo…'}], 'hashtags': [{'start': 16, 'end': 27, 'tag': 'LoMásLeído'}]}   \n",
       "9                                                                                                                                                                                                                                                                                                                                                                                                                                                                                                                                     {'mentions': [{'start': 3, 'end': 10, 'username': 'IIUNAM'}], 'hashtags': [{'start': 38, 'end': 43, 'tag': 'CDMX'}]}   \n",
       "\n",
       "                                                                                                                                           text  \\\n",
       "0                             #LoMásLeído Se registra el sismo más fuerte en 100 años en México; reportan cinco muertos https://t.co/SQzgN5sjgJ   \n",
       "1                                          #EntérateCDMX Reubican a 19 planteles de la Capital CDMX afectados por sismo https://t.co/A5eky5Rp5g   \n",
       "2      Instala @ISSSTE_mx #CentrosDeAcopio en la #CDMX para apoyar a afectados por el #Sismo -  https://t.co/bStv6MRvfz https://t.co/WVlV0YtyTs   \n",
       "3      Instala @ISSSTE_mx #CentrosDeAcopio en la #CDMX para apoyar a afectados por el #Sismo -  https://t.co/VFZCMk7WRN https://t.co/S5E5e31BDm   \n",
       "4  RT @CFEmx: A sus órdenes 7 #CentrosDeAcopio en la #CDMX para apoyar a la población de #Oaxaca y #Chiapas afectada por el #sismo consulta: h…   \n",
       "5  RT @JuanCLastiri: En las oficinas de @SEDATU_mx en #CDMX ya está instalado el centro de acopio para ayudar a los afectados por el #Sismo, #…   \n",
       "6  RT @Foro_TV: ¿Dónde se puede acudir a donar víveres a los damnificados por el #sismo en la #CDMX? https://t.co/EUpgaFTx3Q https://t.co/Vcrc…   \n",
       "7                  #Asíeslanoticia: Instala @ISSSTE_mx centros de acopio en #CDMX para apoyar a damnificados por sismo. https://t.co/oKMNn1Lzgp   \n",
       "8       RT @CapitalMX_: #LoMásLeído Se desploma avión de la Fuerza Aérea que llevaba ayuda a zona afectada por el sismo https://t.co/GOf04M5EYr   \n",
       "9  RT @IIUNAM: El Sismo que sacudió a la #CDMX, el de mayor intensidad desde 1932: Servicio Sismológico Nacional. Nuestra nota https://t.co/Kx…   \n",
       "\n",
       "          username     usuarios_mencionados  \n",
       "0       CapitalMX_                           \n",
       "1       CapitalMX_                           \n",
       "2       AlexNavaMx                ISSSTE_mx  \n",
       "3   AlternativaGDM                ISSSTE_mx  \n",
       "4   AIBMontesDeOca                    CFEmx  \n",
       "5       prepSEDATU  JuanCLastiri, SEDATU_mx  \n",
       "6  ClaudiaMunozpaz                  Foro_TV  \n",
       "7   Asieslanoticia                ISSSTE_mx  \n",
       "8    Dayanasalmon1               CapitalMX_  \n",
       "9        TaoCortes                   IIUNAM  "
      ]
     },
     "execution_count": 20,
     "metadata": {},
     "output_type": "execute_result"
    }
   ],
   "source": [
    "df.head(10)"
   ]
  },
  {
   "cell_type": "code",
   "execution_count": null,
   "metadata": {},
   "outputs": [],
   "source": []
  }
 ],
 "metadata": {
  "kernelspec": {
   "display_name": "Python 3",
   "language": "python",
   "name": "python3"
  },
  "language_info": {
   "codemirror_mode": {
    "name": "ipython",
    "version": 3
   },
   "file_extension": ".py",
   "mimetype": "text/x-python",
   "name": "python",
   "nbconvert_exporter": "python",
   "pygments_lexer": "ipython3",
   "version": "3.7.6"
  }
 },
 "nbformat": 4,
 "nbformat_minor": 4
}
