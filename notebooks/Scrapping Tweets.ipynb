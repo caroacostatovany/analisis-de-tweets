{
 "cells": [
  {
   "cell_type": "markdown",
   "id": "0a22a6ea",
   "metadata": {},
   "source": [
    "# From twitter"
   ]
  },
  {
   "cell_type": "markdown",
   "id": "simple-serial",
   "metadata": {},
   "source": [
    "Obtener tweets relacionados con el [sismo](http://ciencia.unam.mx/leer/652/-que-ocurrio-el-19-de-septiembre-de-2017-en-mexico-) vivido en la Ciudad de México en la fecha de $2029/\\text{Sept}/19$."
   ]
  },
  {
   "cell_type": "code",
   "execution_count": 1,
   "id": "composite-turkey",
   "metadata": {},
   "outputs": [],
   "source": [
    "import searchtweets\n",
    "import pandas as pd\n",
    "import numpy as np"
   ]
  },
  {
   "cell_type": "markdown",
   "id": "lyric-latitude",
   "metadata": {},
   "source": [
    "Verificar que la versión del paquete [`searchtweets`](https://pypi.org/project/searchtweets-v2/) es **1.0.7**. La manera que se recomienda instalar el paquete es la siguiente:\n",
    "+ `pip install searchtweets-v2`"
   ]
  },
  {
   "cell_type": "code",
   "execution_count": 2,
   "id": "cheap-publicity",
   "metadata": {},
   "outputs": [
    {
     "data": {
      "text/plain": [
       "'1.0.7'"
      ]
     },
     "execution_count": 2,
     "metadata": {},
     "output_type": "execute_result"
    }
   ],
   "source": [
    "searchtweets.__version__"
   ]
  },
  {
   "cell_type": "code",
   "execution_count": 3,
   "id": "de829b67",
   "metadata": {},
   "outputs": [],
   "source": [
    "from searchtweets import ResultStream, load_credentials, gen_request_parameters, collect_results"
   ]
  },
  {
   "cell_type": "code",
   "execution_count": 4,
   "id": "2d9be634",
   "metadata": {
    "scrolled": true
   },
   "outputs": [
    {
     "name": "stdout",
     "output_type": "stream",
     "text": [
      "Help on function gen_request_parameters in module searchtweets.api_utils:\n",
      "\n",
      "gen_request_parameters(query, results_per_call=None, start_time=None, end_time=None, since_id=None, until_id=None, tweet_fields=None, user_fields=None, media_fields=None, place_fields=None, poll_fields=None, expansions=None, stringify=True)\n",
      "    Generates the dict or json payload for a search query.\n",
      "    \n",
      "    Args:\n",
      "        query (str): The string version of a search query,\n",
      "            e.g., \"snow has:media -is:retweet\". Accepts multi-line strings\n",
      "            for ease of entry.\n",
      "        results_per_call (int): number of tweets or counts returned per API\n",
      "        call. This maps to the `max_results`` search API parameter.\n",
      "            Defaults to 100 (maximum supported in Labs).\n",
      "        start_time (str or None): Date format as specified by\n",
      "            `convert_utc_time` for the starting time of your search.\n",
      "        end_time (str or None): date format as specified by `convert_utc_time`\n",
      "            for the end time of your search.\n",
      "        tweet_fields (string): comma-delimted list of Tweet JSON attributes wanted in endpoint responses. Default is \"id,created_at,text\").\n",
      "        Also user_fields, media_fields, place_fields, poll_fields\n",
      "        expansions (string): comma-delimited list of object expansions.\n",
      "        stringify (bool): specifies the return type, `dict`\n",
      "            or json-formatted `str`.\n",
      "    \n",
      "    Example:\n",
      "    \n",
      "        >>> from searchtweets.utils import gen_request_parameters\n",
      "        >>> gen_request_parameters(\"snow has:media -is:retweet\",\n",
      "            ...              from_date=\"2020-02-18\",\n",
      "            ...              to_date=\"2020-02-21\")\n",
      "        '{\"query\":\"snow has:media -is:retweet\",\"max_results\":100,\"start_time\":\"202002180000\",\"end_time\":\"202002210000\"}'\n",
      "\n"
     ]
    }
   ],
   "source": [
    "help(gen_request_parameters)"
   ]
  },
  {
   "cell_type": "markdown",
   "id": "third-liechtenstein",
   "metadata": {},
   "source": [
    "Verificar que se tiene el archivo `conf/local/credentials.yaml` con las credenciales necesarias para realizar el *scrapping* correspondiente a este notebook. En caso de que no se tengan se recomienda a acudir con los autores del proyecto."
   ]
  },
  {
   "cell_type": "code",
   "execution_count": 5,
   "id": "81764200",
   "metadata": {},
   "outputs": [],
   "source": [
    "search_args = load_credentials(filename=\"../conf/local/credentials.yaml\",\n",
    "                               yaml_key=\"search_tweets_v2\",\n",
    "                               env_overwrite=False)"
   ]
  },
  {
   "cell_type": "code",
   "execution_count": 6,
   "id": "4c4ce92d",
   "metadata": {},
   "outputs": [],
   "source": [
    "query = gen_request_parameters(\"sismo cdmx\", \n",
    "                               start_time = \"2017-09-11\",\n",
    "                               end_time = \"2017-09-13\",\n",
    "                               tweet_fields=\"id,created_at,conversation_id,in_reply_to_user_id,referenced_tweets,entities,text\",\n",
    "                               user_fields=\"id,username\",\n",
    "                               expansions=\"author_id\",\n",
    "                               results_per_call=10)"
   ]
  },
  {
   "cell_type": "code",
   "execution_count": 7,
   "id": "a0eadf7f",
   "metadata": {},
   "outputs": [],
   "source": [
    "tweets = collect_results(query,\n",
    "                         max_tweets=1,\n",
    "                         result_stream_args=search_args) # change this if you need to"
   ]
  },
  {
   "cell_type": "code",
   "execution_count": 8,
   "id": "378cc5c3",
   "metadata": {},
   "outputs": [
    {
     "name": "stdout",
     "output_type": "stream",
     "text": [
      "ResultStream: \n",
      "\t{\n",
      "    \"endpoint\": \"https://api.twitter.com/2/tweets/search/all\",\n",
      "    \"request_parameters\": {\n",
      "        \"query\": \"sismo cdmx\",\n",
      "        \"max_results\": 10,\n",
      "        \"start_time\": \"2017-09-11T00:00:00Z\",\n",
      "        \"end_time\": \"2017-09-13T00:00:00Z\",\n",
      "        \"tweet.fields\": \"id,created_at,conversation_id,in_reply_to_user_id,referenced_tweets,entities,text\",\n",
      "        \"user.fields\": \"id,username\",\n",
      "        \"expansions\": \"author_id\"\n",
      "    },\n",
      "    \"max_tweets\": 500\n",
      "}\n"
     ]
    }
   ],
   "source": [
    "rs = ResultStream(request_parameters=query,\n",
    "                  max_results=10,\n",
    "                  max_pages=1,\n",
    "                  **search_args)\n",
    "print(rs)"
   ]
  },
  {
   "cell_type": "code",
   "execution_count": 9,
   "id": "02216342",
   "metadata": {},
   "outputs": [],
   "source": [
    "results = list(rs.stream())"
   ]
  },
  {
   "cell_type": "code",
   "execution_count": 10,
   "id": "07718f98",
   "metadata": {},
   "outputs": [],
   "source": [
    "res = pd.DataFrame(results)"
   ]
  },
  {
   "cell_type": "code",
   "execution_count": 11,
   "id": "comparative-council",
   "metadata": {},
   "outputs": [
    {
     "data": {
      "text/html": [
       "<div>\n",
       "<style scoped>\n",
       "    .dataframe tbody tr th:only-of-type {\n",
       "        vertical-align: middle;\n",
       "    }\n",
       "\n",
       "    .dataframe tbody tr th {\n",
       "        vertical-align: top;\n",
       "    }\n",
       "\n",
       "    .dataframe thead th {\n",
       "        text-align: right;\n",
       "    }\n",
       "</style>\n",
       "<table border=\"1\" class=\"dataframe\">\n",
       "  <thead>\n",
       "    <tr style=\"text-align: right;\">\n",
       "      <th></th>\n",
       "      <th>data</th>\n",
       "      <th>includes</th>\n",
       "      <th>meta</th>\n",
       "    </tr>\n",
       "  </thead>\n",
       "  <tbody>\n",
       "    <tr>\n",
       "      <th>0</th>\n",
       "      <td>[{'text': '#LoMásLeído Se registra el sismo má...</td>\n",
       "      <td>{'users': [{'id': '1380764066', 'name': 'Capit...</td>\n",
       "      <td>{'newest_id': '907755462241775617', 'oldest_id...</td>\n",
       "    </tr>\n",
       "    <tr>\n",
       "      <th>1</th>\n",
       "      <td>[{'text': '#LoMásLeído Se desploma avión de la...</td>\n",
       "      <td>{'users': [{'id': '1380764066', 'name': 'Capit...</td>\n",
       "      <td>{'newest_id': '907750426937888768', 'oldest_id...</td>\n",
       "    </tr>\n",
       "    <tr>\n",
       "      <th>2</th>\n",
       "      <td>[{'text': 'RT @CapitalMX_: #LoMásLeído Propone...</td>\n",
       "      <td>{'users': [{'id': '108482463', 'name': 'Luis E...</td>\n",
       "      <td>{'newest_id': '907749085465251840', 'oldest_id...</td>\n",
       "    </tr>\n",
       "  </tbody>\n",
       "</table>\n",
       "</div>"
      ],
      "text/plain": [
       "                                                data  \\\n",
       "0  [{'text': '#LoMásLeído Se registra el sismo má...   \n",
       "1  [{'text': '#LoMásLeído Se desploma avión de la...   \n",
       "2  [{'text': 'RT @CapitalMX_: #LoMásLeído Propone...   \n",
       "\n",
       "                                            includes  \\\n",
       "0  {'users': [{'id': '1380764066', 'name': 'Capit...   \n",
       "1  {'users': [{'id': '1380764066', 'name': 'Capit...   \n",
       "2  {'users': [{'id': '108482463', 'name': 'Luis E...   \n",
       "\n",
       "                                                meta  \n",
       "0  {'newest_id': '907755462241775617', 'oldest_id...  \n",
       "1  {'newest_id': '907750426937888768', 'oldest_id...  \n",
       "2  {'newest_id': '907749085465251840', 'oldest_id...  "
      ]
     },
     "execution_count": 11,
     "metadata": {},
     "output_type": "execute_result"
    }
   ],
   "source": [
    "res.head(3)"
   ]
  },
  {
   "cell_type": "code",
   "execution_count": 12,
   "id": "adapted-recipe",
   "metadata": {},
   "outputs": [
    {
     "data": {
      "text/plain": [
       "(54, 3)"
      ]
     },
     "execution_count": 12,
     "metadata": {},
     "output_type": "execute_result"
    }
   ],
   "source": [
    "res.shape"
   ]
  },
  {
   "cell_type": "code",
   "execution_count": 13,
   "id": "particular-expansion",
   "metadata": {},
   "outputs": [
    {
     "data": {
      "text/plain": [
       "[{'text': '#LoMásLeído Se registra el sismo más fuerte en 100 años en México; reportan cinco muertos https://t.co/SQzgN5sjgJ',\n",
       "  'created_at': '2017-09-12T23:59:02.000Z',\n",
       "  'author_id': '1380764066',\n",
       "  'entities': {'annotations': [{'start': 59,\n",
       "     'end': 64,\n",
       "     'probability': 0.9962,\n",
       "     'type': 'Place',\n",
       "     'normalized_text': 'México'}],\n",
       "   'urls': [{'start': 90,\n",
       "     'end': 113,\n",
       "     'url': 'https://t.co/SQzgN5sjgJ',\n",
       "     'expanded_url': 'http://capital-cdmx.org/nota-Se-registra-el-sismo-mas-fuerte-en-100-anos-en-Mexico--reportan-cinco-muertos-20178952',\n",
       "     'display_url': 'capital-cdmx.org/nota-Se-regist…'}],\n",
       "   'hashtags': [{'start': 0, 'end': 11, 'tag': 'LoMásLeído'}]},\n",
       "  'id': '907755462241775617',\n",
       "  'conversation_id': '907755462241775617'},\n",
       " {'text': '#EntérateCDMX Reubican a 19 planteles de la Capital CDMX afectados por sismo https://t.co/A5eky5Rp5g',\n",
       "  'created_at': '2017-09-12T23:54:55.000Z',\n",
       "  'author_id': '1380764066',\n",
       "  'entities': {'annotations': [{'start': 44,\n",
       "     'end': 55,\n",
       "     'probability': 0.5233,\n",
       "     'type': 'Place',\n",
       "     'normalized_text': 'Capital CDMX'}],\n",
       "   'urls': [{'start': 77,\n",
       "     'end': 100,\n",
       "     'url': 'https://t.co/A5eky5Rp5g',\n",
       "     'expanded_url': 'https://capital-cdmx.org/nota-19-planteles-de-la-Capital-CDMX-afectados-por-sismo-seran-reubicados-201710946',\n",
       "     'display_url': 'capital-cdmx.org/nota-19-plante…'}],\n",
       "   'hashtags': [{'start': 0, 'end': 13, 'tag': 'EntérateCDMX'}]},\n",
       "  'id': '907754428371005441',\n",
       "  'conversation_id': '907754428371005441'},\n",
       " {'text': 'Instala @ISSSTE_mx #CentrosDeAcopio en la #CDMX para apoyar a afectados por el #Sismo -  https://t.co/bStv6MRvfz https://t.co/WVlV0YtyTs',\n",
       "  'created_at': '2017-09-12T23:54:19.000Z',\n",
       "  'author_id': '944251843',\n",
       "  'entities': {'mentions': [{'start': 8, 'end': 18, 'username': 'ISSSTE_mx'}],\n",
       "   'urls': [{'start': 89,\n",
       "     'end': 112,\n",
       "     'url': 'https://t.co/bStv6MRvfz',\n",
       "     'expanded_url': 'http://alternativamex.com/alternativa-centros-de-acopio-en-la-ciudad-de-mexico/',\n",
       "     'display_url': 'alternativamex.com/alternativa-ce…'},\n",
       "    {'start': 113,\n",
       "     'end': 136,\n",
       "     'url': 'https://t.co/WVlV0YtyTs',\n",
       "     'expanded_url': 'https://twitter.com/AlexNavaMx/status/907754276415557633/photo/1',\n",
       "     'display_url': 'pic.twitter.com/WVlV0YtyTs'}],\n",
       "   'hashtags': [{'start': 19, 'end': 35, 'tag': 'CentrosDeAcopio'},\n",
       "    {'start': 42, 'end': 47, 'tag': 'CDMX'},\n",
       "    {'start': 79, 'end': 85, 'tag': 'Sismo'}]},\n",
       "  'id': '907754276415557633',\n",
       "  'conversation_id': '907754276415557633'},\n",
       " {'text': 'Instala @ISSSTE_mx #CentrosDeAcopio en la #CDMX para apoyar a afectados por el #Sismo -  https://t.co/VFZCMk7WRN https://t.co/S5E5e31BDm',\n",
       "  'created_at': '2017-09-12T23:54:18.000Z',\n",
       "  'author_id': '705194891588964352',\n",
       "  'entities': {'mentions': [{'start': 8, 'end': 18, 'username': 'ISSSTE_mx'}],\n",
       "   'urls': [{'start': 89,\n",
       "     'end': 112,\n",
       "     'url': 'https://t.co/VFZCMk7WRN',\n",
       "     'expanded_url': 'http://alternativamex.com/alternativa-centros-de-acopio-en-la-ciudad-de-mexico/',\n",
       "     'display_url': 'alternativamex.com/alternativa-ce…'},\n",
       "    {'start': 113,\n",
       "     'end': 136,\n",
       "     'url': 'https://t.co/S5E5e31BDm',\n",
       "     'expanded_url': 'https://twitter.com/AlternativaGDM/status/907754271847968768/photo/1',\n",
       "     'display_url': 'pic.twitter.com/S5E5e31BDm'}],\n",
       "   'hashtags': [{'start': 19, 'end': 35, 'tag': 'CentrosDeAcopio'},\n",
       "    {'start': 42, 'end': 47, 'tag': 'CDMX'},\n",
       "    {'start': 79, 'end': 85, 'tag': 'Sismo'}]},\n",
       "  'id': '907754271847968768',\n",
       "  'conversation_id': '907754271847968768'},\n",
       " {'text': 'RT @CFEmx: A sus órdenes 7 #CentrosDeAcopio en la #CDMX para apoyar a la población de #Oaxaca y #Chiapas afectada por el #sismo consulta: h…',\n",
       "  'created_at': '2017-09-12T23:53:12.000Z',\n",
       "  'author_id': '2369573840',\n",
       "  'entities': {'mentions': [{'start': 3, 'end': 9, 'username': 'CFEmx'}],\n",
       "   'hashtags': [{'start': 27, 'end': 43, 'tag': 'CentrosDeAcopio'},\n",
       "    {'start': 50, 'end': 55, 'tag': 'CDMX'},\n",
       "    {'start': 86, 'end': 93, 'tag': 'Oaxaca'},\n",
       "    {'start': 96, 'end': 104, 'tag': 'Chiapas'},\n",
       "    {'start': 121, 'end': 127, 'tag': 'sismo'}]},\n",
       "  'id': '907753994147254272',\n",
       "  'referenced_tweets': [{'type': 'retweeted', 'id': '907325508412682242'}],\n",
       "  'conversation_id': '907753994147254272'},\n",
       " {'text': 'RT @JuanCLastiri: En las oficinas de @SEDATU_mx en #CDMX ya está instalado el centro de acopio para ayudar a los afectados por el #Sismo, #…',\n",
       "  'created_at': '2017-09-12T23:46:08.000Z',\n",
       "  'author_id': '766351022159699968',\n",
       "  'entities': {'mentions': [{'start': 3,\n",
       "     'end': 16,\n",
       "     'username': 'JuanCLastiri'},\n",
       "    {'start': 37, 'end': 47, 'username': 'SEDATU_mx'}],\n",
       "   'hashtags': [{'start': 51, 'end': 56, 'tag': 'CDMX'},\n",
       "    {'start': 130, 'end': 136, 'tag': 'Sismo'}]},\n",
       "  'id': '907752218098626560',\n",
       "  'referenced_tweets': [{'type': 'retweeted', 'id': '907701576420261888'}],\n",
       "  'conversation_id': '907752218098626560'},\n",
       " {'text': 'RT @Foro_TV: ¿Dónde se puede acudir a donar víveres a los damnificados por el #sismo en la #CDMX? https://t.co/EUpgaFTx3Q https://t.co/Vcrc…',\n",
       "  'created_at': '2017-09-12T23:45:44.000Z',\n",
       "  'author_id': '903087297729572864',\n",
       "  'entities': {'mentions': [{'start': 3, 'end': 11, 'username': 'Foro_TV'}],\n",
       "   'urls': [{'start': 98,\n",
       "     'end': 121,\n",
       "     'url': 'https://t.co/EUpgaFTx3Q',\n",
       "     'expanded_url': 'http://noticieros.televisa.com',\n",
       "     'display_url': 'noticieros.televisa.com'}],\n",
       "   'hashtags': [{'start': 78, 'end': 84, 'tag': 'sismo'},\n",
       "    {'start': 91, 'end': 96, 'tag': 'CDMX'}]},\n",
       "  'id': '907752115963035648',\n",
       "  'referenced_tweets': [{'type': 'retweeted', 'id': '907114006783152129'}],\n",
       "  'conversation_id': '907752115963035648'},\n",
       " {'text': '#Asíeslanoticia: Instala @ISSSTE_mx centros de acopio en #CDMX para apoyar a damnificados por sismo. https://t.co/oKMNn1Lzgp',\n",
       "  'created_at': '2017-09-12T23:44:47.000Z',\n",
       "  'author_id': '2298699182',\n",
       "  'entities': {'mentions': [{'start': 25, 'end': 35, 'username': 'ISSSTE_mx'}],\n",
       "   'urls': [{'start': 101,\n",
       "     'end': 124,\n",
       "     'url': 'https://t.co/oKMNn1Lzgp',\n",
       "     'expanded_url': 'https://twitter.com/Asieslanoticia/status/907751879718793216/photo/1',\n",
       "     'display_url': 'pic.twitter.com/oKMNn1Lzgp'}],\n",
       "   'hashtags': [{'start': 0, 'end': 15, 'tag': 'Asíeslanoticia'},\n",
       "    {'start': 57, 'end': 62, 'tag': 'CDMX'}]},\n",
       "  'id': '907751879718793216',\n",
       "  'conversation_id': '907751879718793216'},\n",
       " {'text': 'RT @CapitalMX_: #LoMásLeído Se desploma avión de la Fuerza Aérea que llevaba ayuda a zona afectada por el sismo https://t.co/GOf04M5EYr',\n",
       "  'created_at': '2017-09-12T23:41:58.000Z',\n",
       "  'author_id': '869052210696654848',\n",
       "  'entities': {'annotations': [{'start': 52,\n",
       "     'end': 63,\n",
       "     'probability': 0.3866,\n",
       "     'type': 'Place',\n",
       "     'normalized_text': 'Fuerza Aérea'}],\n",
       "   'mentions': [{'start': 3, 'end': 14, 'username': 'CapitalMX_'}],\n",
       "   'urls': [{'start': 112,\n",
       "     'end': 135,\n",
       "     'url': 'https://t.co/GOf04M5EYr',\n",
       "     'expanded_url': 'http://capital-cdmx.org/nota-Se-desploma-avion-de-la-Fuerza-Aerea-que-llevaba-ayuda-a-zona-afectada-por-el-sismo-201712927',\n",
       "     'display_url': 'capital-cdmx.org/nota-Se-desplo…'}],\n",
       "   'hashtags': [{'start': 16, 'end': 27, 'tag': 'LoMásLeído'}]},\n",
       "  'id': '907751170378227712',\n",
       "  'referenced_tweets': [{'type': 'retweeted', 'id': '907750426937888768'}],\n",
       "  'conversation_id': '907751170378227712'},\n",
       " {'text': 'RT @IIUNAM: El Sismo que sacudió a la #CDMX, el de mayor intensidad desde 1932: Servicio Sismológico Nacional. Nuestra nota https://t.co/Kx…',\n",
       "  'created_at': '2017-09-12T23:39:08.000Z',\n",
       "  'author_id': '702206582',\n",
       "  'entities': {'mentions': [{'start': 3, 'end': 10, 'username': 'IIUNAM'}],\n",
       "   'hashtags': [{'start': 38, 'end': 43, 'tag': 'CDMX'}]},\n",
       "  'id': '907750456230805510',\n",
       "  'referenced_tweets': [{'type': 'retweeted', 'id': '906249767805648898'}],\n",
       "  'conversation_id': '907750456230805510'}]"
      ]
     },
     "execution_count": 13,
     "metadata": {},
     "output_type": "execute_result"
    }
   ],
   "source": [
    "res.data[0]"
   ]
  },
  {
   "cell_type": "code",
   "execution_count": 14,
   "id": "8eaedfe8",
   "metadata": {},
   "outputs": [
    {
     "name": "stderr",
     "output_type": "stream",
     "text": [
      "/Library/Frameworks/Python.framework/Versions/3.7/lib/python3.7/site-packages/ipykernel_launcher.py:12: VisibleDeprecationWarning: Creating an ndarray from ragged nested sequences (which is a list-or-tuple of lists-or-tuples-or ndarrays with different lengths or shapes) is deprecated. If you meant to do this, you must specify 'dtype=object' when creating the ndarray\n",
      "  if sys.path[0] == '':\n"
     ]
    }
   ],
   "source": [
    "df_1 = pd.DataFrame()\n",
    "for api in res.data:\n",
    "    for tweet in api:\n",
    "        if 'in_reply_to_user_id' not in tweet:\n",
    "            tweet['in_reply_to_user_id'] = 'propio'\n",
    "        if 'referenced_tweets' not in tweet:\n",
    "            tweet['referenced_tweets'] = 'propio_original'\n",
    "        if 'entities' not in tweet:\n",
    "            tweet['entities'] = 'propio_original'\n",
    "        lista = np.array([tweet['created_at'], tweet['id'], tweet['author_id'], \n",
    "                          tweet['conversation_id'], tweet['in_reply_to_user_id'], tweet['referenced_tweets'],\n",
    "                          tweet['entities'],tweet['text']])\n",
    "        temp = pd.DataFrame([lista], columns=['created_at', 'id', 'author_id', 'conversation_id', 'referenced_tweets',\n",
    "                                              'reply_to_user_id', 'entities' ,'text'])\n",
    "        df_1 = pd.concat([df_1,temp], axis=0)"
   ]
  },
  {
   "cell_type": "code",
   "execution_count": 15,
   "id": "neutral-subdivision",
   "metadata": {},
   "outputs": [
    {
     "data": {
      "text/html": [
       "<div>\n",
       "<style scoped>\n",
       "    .dataframe tbody tr th:only-of-type {\n",
       "        vertical-align: middle;\n",
       "    }\n",
       "\n",
       "    .dataframe tbody tr th {\n",
       "        vertical-align: top;\n",
       "    }\n",
       "\n",
       "    .dataframe thead th {\n",
       "        text-align: right;\n",
       "    }\n",
       "</style>\n",
       "<table border=\"1\" class=\"dataframe\">\n",
       "  <thead>\n",
       "    <tr style=\"text-align: right;\">\n",
       "      <th></th>\n",
       "      <th>created_at</th>\n",
       "      <th>id</th>\n",
       "      <th>author_id</th>\n",
       "      <th>conversation_id</th>\n",
       "      <th>referenced_tweets</th>\n",
       "      <th>reply_to_user_id</th>\n",
       "      <th>entities</th>\n",
       "      <th>text</th>\n",
       "    </tr>\n",
       "  </thead>\n",
       "  <tbody>\n",
       "    <tr>\n",
       "      <th>0</th>\n",
       "      <td>2017-09-12T23:59:02.000Z</td>\n",
       "      <td>907755462241775617</td>\n",
       "      <td>1380764066</td>\n",
       "      <td>907755462241775617</td>\n",
       "      <td>propio</td>\n",
       "      <td>propio_original</td>\n",
       "      <td>{'annotations': [{'start': 59, 'end': 64, 'pro...</td>\n",
       "      <td>#LoMásLeído Se registra el sismo más fuerte en...</td>\n",
       "    </tr>\n",
       "    <tr>\n",
       "      <th>0</th>\n",
       "      <td>2017-09-12T23:54:55.000Z</td>\n",
       "      <td>907754428371005441</td>\n",
       "      <td>1380764066</td>\n",
       "      <td>907754428371005441</td>\n",
       "      <td>propio</td>\n",
       "      <td>propio_original</td>\n",
       "      <td>{'annotations': [{'start': 44, 'end': 55, 'pro...</td>\n",
       "      <td>#EntérateCDMX Reubican a 19 planteles de la Ca...</td>\n",
       "    </tr>\n",
       "    <tr>\n",
       "      <th>0</th>\n",
       "      <td>2017-09-12T23:54:19.000Z</td>\n",
       "      <td>907754276415557633</td>\n",
       "      <td>944251843</td>\n",
       "      <td>907754276415557633</td>\n",
       "      <td>propio</td>\n",
       "      <td>propio_original</td>\n",
       "      <td>{'mentions': [{'start': 8, 'end': 18, 'usernam...</td>\n",
       "      <td>Instala @ISSSTE_mx #CentrosDeAcopio en la #CDM...</td>\n",
       "    </tr>\n",
       "    <tr>\n",
       "      <th>0</th>\n",
       "      <td>2017-09-12T23:54:18.000Z</td>\n",
       "      <td>907754271847968768</td>\n",
       "      <td>705194891588964352</td>\n",
       "      <td>907754271847968768</td>\n",
       "      <td>propio</td>\n",
       "      <td>propio_original</td>\n",
       "      <td>{'mentions': [{'start': 8, 'end': 18, 'usernam...</td>\n",
       "      <td>Instala @ISSSTE_mx #CentrosDeAcopio en la #CDM...</td>\n",
       "    </tr>\n",
       "    <tr>\n",
       "      <th>0</th>\n",
       "      <td>2017-09-12T23:53:12.000Z</td>\n",
       "      <td>907753994147254272</td>\n",
       "      <td>2369573840</td>\n",
       "      <td>907753994147254272</td>\n",
       "      <td>propio</td>\n",
       "      <td>[{'type': 'retweeted', 'id': '9073255084126822...</td>\n",
       "      <td>{'mentions': [{'start': 3, 'end': 9, 'username...</td>\n",
       "      <td>RT @CFEmx: A sus órdenes 7 #CentrosDeAcopio en...</td>\n",
       "    </tr>\n",
       "    <tr>\n",
       "      <th>0</th>\n",
       "      <td>2017-09-12T23:46:08.000Z</td>\n",
       "      <td>907752218098626560</td>\n",
       "      <td>766351022159699968</td>\n",
       "      <td>907752218098626560</td>\n",
       "      <td>propio</td>\n",
       "      <td>[{'type': 'retweeted', 'id': '9077015764202618...</td>\n",
       "      <td>{'mentions': [{'start': 3, 'end': 16, 'usernam...</td>\n",
       "      <td>RT @JuanCLastiri: En las oficinas de @SEDATU_m...</td>\n",
       "    </tr>\n",
       "  </tbody>\n",
       "</table>\n",
       "</div>"
      ],
      "text/plain": [
       "                 created_at                  id           author_id  \\\n",
       "0  2017-09-12T23:59:02.000Z  907755462241775617          1380764066   \n",
       "0  2017-09-12T23:54:55.000Z  907754428371005441          1380764066   \n",
       "0  2017-09-12T23:54:19.000Z  907754276415557633           944251843   \n",
       "0  2017-09-12T23:54:18.000Z  907754271847968768  705194891588964352   \n",
       "0  2017-09-12T23:53:12.000Z  907753994147254272          2369573840   \n",
       "0  2017-09-12T23:46:08.000Z  907752218098626560  766351022159699968   \n",
       "\n",
       "      conversation_id referenced_tweets  \\\n",
       "0  907755462241775617            propio   \n",
       "0  907754428371005441            propio   \n",
       "0  907754276415557633            propio   \n",
       "0  907754271847968768            propio   \n",
       "0  907753994147254272            propio   \n",
       "0  907752218098626560            propio   \n",
       "\n",
       "                                    reply_to_user_id  \\\n",
       "0                                    propio_original   \n",
       "0                                    propio_original   \n",
       "0                                    propio_original   \n",
       "0                                    propio_original   \n",
       "0  [{'type': 'retweeted', 'id': '9073255084126822...   \n",
       "0  [{'type': 'retweeted', 'id': '9077015764202618...   \n",
       "\n",
       "                                            entities  \\\n",
       "0  {'annotations': [{'start': 59, 'end': 64, 'pro...   \n",
       "0  {'annotations': [{'start': 44, 'end': 55, 'pro...   \n",
       "0  {'mentions': [{'start': 8, 'end': 18, 'usernam...   \n",
       "0  {'mentions': [{'start': 8, 'end': 18, 'usernam...   \n",
       "0  {'mentions': [{'start': 3, 'end': 9, 'username...   \n",
       "0  {'mentions': [{'start': 3, 'end': 16, 'usernam...   \n",
       "\n",
       "                                                text  \n",
       "0  #LoMásLeído Se registra el sismo más fuerte en...  \n",
       "0  #EntérateCDMX Reubican a 19 planteles de la Ca...  \n",
       "0  Instala @ISSSTE_mx #CentrosDeAcopio en la #CDM...  \n",
       "0  Instala @ISSSTE_mx #CentrosDeAcopio en la #CDM...  \n",
       "0  RT @CFEmx: A sus órdenes 7 #CentrosDeAcopio en...  \n",
       "0  RT @JuanCLastiri: En las oficinas de @SEDATU_m...  "
      ]
     },
     "execution_count": 15,
     "metadata": {},
     "output_type": "execute_result"
    }
   ],
   "source": [
    "df_1.head(6)"
   ]
  },
  {
   "cell_type": "code",
   "execution_count": 16,
   "id": "acoustic-water",
   "metadata": {},
   "outputs": [],
   "source": [
    "df_2 = pd.DataFrame()\n",
    "for api in res.includes:\n",
    "    for tweet in api['users']:    \n",
    "        lista = np.array([tweet['id'], tweet['username']])\n",
    "        temp = temp = pd.DataFrame([lista], columns=['author_id', 'username'])\n",
    "        df_2 = pd.concat([df_2,temp], axis=0)"
   ]
  },
  {
   "cell_type": "code",
   "execution_count": 17,
   "id": "finnish-nursery",
   "metadata": {},
   "outputs": [],
   "source": [
    "df_2['id_user'] = df_2.author_id.astype('str') + df_2.username"
   ]
  },
  {
   "cell_type": "code",
   "execution_count": 18,
   "id": "working-election",
   "metadata": {},
   "outputs": [
    {
     "data": {
      "text/html": [
       "<div>\n",
       "<style scoped>\n",
       "    .dataframe tbody tr th:only-of-type {\n",
       "        vertical-align: middle;\n",
       "    }\n",
       "\n",
       "    .dataframe tbody tr th {\n",
       "        vertical-align: top;\n",
       "    }\n",
       "\n",
       "    .dataframe thead th {\n",
       "        text-align: right;\n",
       "    }\n",
       "</style>\n",
       "<table border=\"1\" class=\"dataframe\">\n",
       "  <thead>\n",
       "    <tr style=\"text-align: right;\">\n",
       "      <th></th>\n",
       "      <th>author_id</th>\n",
       "      <th>username</th>\n",
       "      <th>id_user</th>\n",
       "    </tr>\n",
       "  </thead>\n",
       "  <tbody>\n",
       "    <tr>\n",
       "      <th>0</th>\n",
       "      <td>1380764066</td>\n",
       "      <td>CapitalMX_</td>\n",
       "      <td>1380764066CapitalMX_</td>\n",
       "    </tr>\n",
       "    <tr>\n",
       "      <th>0</th>\n",
       "      <td>944251843</td>\n",
       "      <td>AlexNavaMx</td>\n",
       "      <td>944251843AlexNavaMx</td>\n",
       "    </tr>\n",
       "    <tr>\n",
       "      <th>0</th>\n",
       "      <td>705194891588964352</td>\n",
       "      <td>AlternativaGDM</td>\n",
       "      <td>705194891588964352AlternativaGDM</td>\n",
       "    </tr>\n",
       "    <tr>\n",
       "      <th>0</th>\n",
       "      <td>2369573840</td>\n",
       "      <td>AIBMontesDeOca</td>\n",
       "      <td>2369573840AIBMontesDeOca</td>\n",
       "    </tr>\n",
       "    <tr>\n",
       "      <th>0</th>\n",
       "      <td>766351022159699968</td>\n",
       "      <td>prepSEDATU</td>\n",
       "      <td>766351022159699968prepSEDATU</td>\n",
       "    </tr>\n",
       "    <tr>\n",
       "      <th>0</th>\n",
       "      <td>903087297729572864</td>\n",
       "      <td>ClaudiaMunozpaz</td>\n",
       "      <td>903087297729572864ClaudiaMunozpaz</td>\n",
       "    </tr>\n",
       "  </tbody>\n",
       "</table>\n",
       "</div>"
      ],
      "text/plain": [
       "            author_id         username                            id_user\n",
       "0          1380764066       CapitalMX_               1380764066CapitalMX_\n",
       "0           944251843       AlexNavaMx                944251843AlexNavaMx\n",
       "0  705194891588964352   AlternativaGDM   705194891588964352AlternativaGDM\n",
       "0          2369573840   AIBMontesDeOca           2369573840AIBMontesDeOca\n",
       "0  766351022159699968       prepSEDATU       766351022159699968prepSEDATU\n",
       "0  903087297729572864  ClaudiaMunozpaz  903087297729572864ClaudiaMunozpaz"
      ]
     },
     "execution_count": 18,
     "metadata": {},
     "output_type": "execute_result"
    }
   ],
   "source": [
    "df_2.head(6)"
   ]
  },
  {
   "cell_type": "code",
   "execution_count": 19,
   "id": "worst-protocol",
   "metadata": {},
   "outputs": [],
   "source": [
    "df_2=df_2.drop_duplicates('id_user')"
   ]
  },
  {
   "cell_type": "code",
   "execution_count": 20,
   "id": "spatial-seller",
   "metadata": {},
   "outputs": [
    {
     "data": {
      "text/plain": [
       "506"
      ]
     },
     "execution_count": 20,
     "metadata": {},
     "output_type": "execute_result"
    }
   ],
   "source": [
    "len(pd.unique(df_1.id))"
   ]
  },
  {
   "cell_type": "code",
   "execution_count": 21,
   "id": "humanitarian-cancellation",
   "metadata": {},
   "outputs": [
    {
     "data": {
      "text/plain": [
       "(417, 3)"
      ]
     },
     "execution_count": 21,
     "metadata": {},
     "output_type": "execute_result"
    }
   ],
   "source": [
    "df_2.shape"
   ]
  },
  {
   "cell_type": "code",
   "execution_count": 22,
   "id": "arranged-arrest",
   "metadata": {},
   "outputs": [],
   "source": [
    "df_2_clean = df_2[['author_id','username']]"
   ]
  },
  {
   "cell_type": "code",
   "execution_count": 23,
   "id": "central-quebec",
   "metadata": {},
   "outputs": [],
   "source": [
    "df = df_1.merge(df_2_clean, on='author_id', how='left')"
   ]
  },
  {
   "cell_type": "code",
   "execution_count": 24,
   "id": "conscious-separate",
   "metadata": {},
   "outputs": [
    {
     "data": {
      "text/html": [
       "<div>\n",
       "<style scoped>\n",
       "    .dataframe tbody tr th:only-of-type {\n",
       "        vertical-align: middle;\n",
       "    }\n",
       "\n",
       "    .dataframe tbody tr th {\n",
       "        vertical-align: top;\n",
       "    }\n",
       "\n",
       "    .dataframe thead th {\n",
       "        text-align: right;\n",
       "    }\n",
       "</style>\n",
       "<table border=\"1\" class=\"dataframe\">\n",
       "  <thead>\n",
       "    <tr style=\"text-align: right;\">\n",
       "      <th></th>\n",
       "      <th>created_at</th>\n",
       "      <th>id</th>\n",
       "      <th>author_id</th>\n",
       "      <th>conversation_id</th>\n",
       "      <th>referenced_tweets</th>\n",
       "      <th>reply_to_user_id</th>\n",
       "      <th>entities</th>\n",
       "      <th>text</th>\n",
       "      <th>username</th>\n",
       "    </tr>\n",
       "  </thead>\n",
       "  <tbody>\n",
       "    <tr>\n",
       "      <th>0</th>\n",
       "      <td>2017-09-12T23:59:02.000Z</td>\n",
       "      <td>907755462241775617</td>\n",
       "      <td>1380764066</td>\n",
       "      <td>907755462241775617</td>\n",
       "      <td>propio</td>\n",
       "      <td>propio_original</td>\n",
       "      <td>{'annotations': [{'start': 59, 'end': 64, 'pro...</td>\n",
       "      <td>#LoMásLeído Se registra el sismo más fuerte en...</td>\n",
       "      <td>CapitalMX_</td>\n",
       "    </tr>\n",
       "    <tr>\n",
       "      <th>1</th>\n",
       "      <td>2017-09-12T23:54:55.000Z</td>\n",
       "      <td>907754428371005441</td>\n",
       "      <td>1380764066</td>\n",
       "      <td>907754428371005441</td>\n",
       "      <td>propio</td>\n",
       "      <td>propio_original</td>\n",
       "      <td>{'annotations': [{'start': 44, 'end': 55, 'pro...</td>\n",
       "      <td>#EntérateCDMX Reubican a 19 planteles de la Ca...</td>\n",
       "      <td>CapitalMX_</td>\n",
       "    </tr>\n",
       "    <tr>\n",
       "      <th>2</th>\n",
       "      <td>2017-09-12T23:54:19.000Z</td>\n",
       "      <td>907754276415557633</td>\n",
       "      <td>944251843</td>\n",
       "      <td>907754276415557633</td>\n",
       "      <td>propio</td>\n",
       "      <td>propio_original</td>\n",
       "      <td>{'mentions': [{'start': 8, 'end': 18, 'usernam...</td>\n",
       "      <td>Instala @ISSSTE_mx #CentrosDeAcopio en la #CDM...</td>\n",
       "      <td>AlexNavaMx</td>\n",
       "    </tr>\n",
       "    <tr>\n",
       "      <th>3</th>\n",
       "      <td>2017-09-12T23:54:18.000Z</td>\n",
       "      <td>907754271847968768</td>\n",
       "      <td>705194891588964352</td>\n",
       "      <td>907754271847968768</td>\n",
       "      <td>propio</td>\n",
       "      <td>propio_original</td>\n",
       "      <td>{'mentions': [{'start': 8, 'end': 18, 'usernam...</td>\n",
       "      <td>Instala @ISSSTE_mx #CentrosDeAcopio en la #CDM...</td>\n",
       "      <td>AlternativaGDM</td>\n",
       "    </tr>\n",
       "    <tr>\n",
       "      <th>4</th>\n",
       "      <td>2017-09-12T23:53:12.000Z</td>\n",
       "      <td>907753994147254272</td>\n",
       "      <td>2369573840</td>\n",
       "      <td>907753994147254272</td>\n",
       "      <td>propio</td>\n",
       "      <td>[{'type': 'retweeted', 'id': '9073255084126822...</td>\n",
       "      <td>{'mentions': [{'start': 3, 'end': 9, 'username...</td>\n",
       "      <td>RT @CFEmx: A sus órdenes 7 #CentrosDeAcopio en...</td>\n",
       "      <td>AIBMontesDeOca</td>\n",
       "    </tr>\n",
       "    <tr>\n",
       "      <th>...</th>\n",
       "      <td>...</td>\n",
       "      <td>...</td>\n",
       "      <td>...</td>\n",
       "      <td>...</td>\n",
       "      <td>...</td>\n",
       "      <td>...</td>\n",
       "      <td>...</td>\n",
       "      <td>...</td>\n",
       "      <td>...</td>\n",
       "    </tr>\n",
       "    <tr>\n",
       "      <th>501</th>\n",
       "      <td>2017-09-12T08:29:38.000Z</td>\n",
       "      <td>907521572419796992</td>\n",
       "      <td>63120239</td>\n",
       "      <td>907521572419796992</td>\n",
       "      <td>propio</td>\n",
       "      <td>propio_original</td>\n",
       "      <td>{'annotations': [{'start': 81, 'end': 84, 'pro...</td>\n",
       "      <td>#infórmate Reiniciarán clases mañana 5 de 19 e...</td>\n",
       "      <td>netdevelopmx</td>\n",
       "    </tr>\n",
       "    <tr>\n",
       "      <th>502</th>\n",
       "      <td>2017-09-12T08:24:05.000Z</td>\n",
       "      <td>907520176228372480</td>\n",
       "      <td>796868290211676161</td>\n",
       "      <td>907520176228372480</td>\n",
       "      <td>propio</td>\n",
       "      <td>propio_original</td>\n",
       "      <td>{'urls': [{'start': 14, 'end': 37, 'url': 'htt...</td>\n",
       "      <td>El Financiero https://t.co/rsTRj7RPHM</td>\n",
       "      <td>boris_abad</td>\n",
       "    </tr>\n",
       "    <tr>\n",
       "      <th>503</th>\n",
       "      <td>2017-09-12T08:06:13.000Z</td>\n",
       "      <td>907515678202220545</td>\n",
       "      <td>478199135</td>\n",
       "      <td>907515678202220545</td>\n",
       "      <td>propio</td>\n",
       "      <td>[{'type': 'retweeted', 'id': '9060269812919951...</td>\n",
       "      <td>{'urls': [{'start': 67, 'end': 90, 'url': 'htt...</td>\n",
       "      <td>RT @Excelsior: Así se vivió el sismo en el @Me...</td>\n",
       "      <td>diaynoche303</td>\n",
       "    </tr>\n",
       "    <tr>\n",
       "      <th>504</th>\n",
       "      <td>2017-09-12T08:03:40.000Z</td>\n",
       "      <td>907515039283806208</td>\n",
       "      <td>798227800612335616</td>\n",
       "      <td>907515039283806208</td>\n",
       "      <td>propio</td>\n",
       "      <td>propio_original</td>\n",
       "      <td>{'annotations': [{'start': 42, 'end': 45, 'pro...</td>\n",
       "      <td>Reabrirán 5 de las 19 escuelas dañadas en CdMx...</td>\n",
       "      <td>santiago071L</td>\n",
       "    </tr>\n",
       "    <tr>\n",
       "      <th>505</th>\n",
       "      <td>2017-09-12T07:49:39.000Z</td>\n",
       "      <td>907511510141825024</td>\n",
       "      <td>108482463</td>\n",
       "      <td>907511510141825024</td>\n",
       "      <td>propio</td>\n",
       "      <td>[{'type': 'retweeted', 'id': '9072798263435591...</td>\n",
       "      <td>{'annotations': [{'start': 58, 'end': 69, 'pro...</td>\n",
       "      <td>RT @CapitalMX_: #LoMásLeído Reubican a 19 plan...</td>\n",
       "      <td>LuisVelazquezC</td>\n",
       "    </tr>\n",
       "  </tbody>\n",
       "</table>\n",
       "<p>506 rows × 9 columns</p>\n",
       "</div>"
      ],
      "text/plain": [
       "                   created_at                  id           author_id  \\\n",
       "0    2017-09-12T23:59:02.000Z  907755462241775617          1380764066   \n",
       "1    2017-09-12T23:54:55.000Z  907754428371005441          1380764066   \n",
       "2    2017-09-12T23:54:19.000Z  907754276415557633           944251843   \n",
       "3    2017-09-12T23:54:18.000Z  907754271847968768  705194891588964352   \n",
       "4    2017-09-12T23:53:12.000Z  907753994147254272          2369573840   \n",
       "..                        ...                 ...                 ...   \n",
       "501  2017-09-12T08:29:38.000Z  907521572419796992            63120239   \n",
       "502  2017-09-12T08:24:05.000Z  907520176228372480  796868290211676161   \n",
       "503  2017-09-12T08:06:13.000Z  907515678202220545           478199135   \n",
       "504  2017-09-12T08:03:40.000Z  907515039283806208  798227800612335616   \n",
       "505  2017-09-12T07:49:39.000Z  907511510141825024           108482463   \n",
       "\n",
       "        conversation_id referenced_tweets  \\\n",
       "0    907755462241775617            propio   \n",
       "1    907754428371005441            propio   \n",
       "2    907754276415557633            propio   \n",
       "3    907754271847968768            propio   \n",
       "4    907753994147254272            propio   \n",
       "..                  ...               ...   \n",
       "501  907521572419796992            propio   \n",
       "502  907520176228372480            propio   \n",
       "503  907515678202220545            propio   \n",
       "504  907515039283806208            propio   \n",
       "505  907511510141825024            propio   \n",
       "\n",
       "                                      reply_to_user_id  \\\n",
       "0                                      propio_original   \n",
       "1                                      propio_original   \n",
       "2                                      propio_original   \n",
       "3                                      propio_original   \n",
       "4    [{'type': 'retweeted', 'id': '9073255084126822...   \n",
       "..                                                 ...   \n",
       "501                                    propio_original   \n",
       "502                                    propio_original   \n",
       "503  [{'type': 'retweeted', 'id': '9060269812919951...   \n",
       "504                                    propio_original   \n",
       "505  [{'type': 'retweeted', 'id': '9072798263435591...   \n",
       "\n",
       "                                              entities  \\\n",
       "0    {'annotations': [{'start': 59, 'end': 64, 'pro...   \n",
       "1    {'annotations': [{'start': 44, 'end': 55, 'pro...   \n",
       "2    {'mentions': [{'start': 8, 'end': 18, 'usernam...   \n",
       "3    {'mentions': [{'start': 8, 'end': 18, 'usernam...   \n",
       "4    {'mentions': [{'start': 3, 'end': 9, 'username...   \n",
       "..                                                 ...   \n",
       "501  {'annotations': [{'start': 81, 'end': 84, 'pro...   \n",
       "502  {'urls': [{'start': 14, 'end': 37, 'url': 'htt...   \n",
       "503  {'urls': [{'start': 67, 'end': 90, 'url': 'htt...   \n",
       "504  {'annotations': [{'start': 42, 'end': 45, 'pro...   \n",
       "505  {'annotations': [{'start': 58, 'end': 69, 'pro...   \n",
       "\n",
       "                                                  text        username  \n",
       "0    #LoMásLeído Se registra el sismo más fuerte en...      CapitalMX_  \n",
       "1    #EntérateCDMX Reubican a 19 planteles de la Ca...      CapitalMX_  \n",
       "2    Instala @ISSSTE_mx #CentrosDeAcopio en la #CDM...      AlexNavaMx  \n",
       "3    Instala @ISSSTE_mx #CentrosDeAcopio en la #CDM...  AlternativaGDM  \n",
       "4    RT @CFEmx: A sus órdenes 7 #CentrosDeAcopio en...  AIBMontesDeOca  \n",
       "..                                                 ...             ...  \n",
       "501  #infórmate Reiniciarán clases mañana 5 de 19 e...    netdevelopmx  \n",
       "502              El Financiero https://t.co/rsTRj7RPHM      boris_abad  \n",
       "503  RT @Excelsior: Así se vivió el sismo en el @Me...    diaynoche303  \n",
       "504  Reabrirán 5 de las 19 escuelas dañadas en CdMx...    santiago071L  \n",
       "505  RT @CapitalMX_: #LoMásLeído Reubican a 19 plan...  LuisVelazquezC  \n",
       "\n",
       "[506 rows x 9 columns]"
      ]
     },
     "execution_count": 24,
     "metadata": {},
     "output_type": "execute_result"
    }
   ],
   "source": [
    "df"
   ]
  },
  {
   "cell_type": "code",
   "execution_count": 25,
   "id": "satisfactory-fever",
   "metadata": {},
   "outputs": [
    {
     "data": {
      "text/plain": [
       "created_at           object\n",
       "id                   object\n",
       "author_id            object\n",
       "conversation_id      object\n",
       "referenced_tweets    object\n",
       "reply_to_user_id     object\n",
       "entities             object\n",
       "text                 object\n",
       "username             object\n",
       "dtype: object"
      ]
     },
     "execution_count": 25,
     "metadata": {},
     "output_type": "execute_result"
    }
   ],
   "source": [
    "df.dtypes"
   ]
  },
  {
   "cell_type": "code",
   "execution_count": 26,
   "id": "d898a527",
   "metadata": {},
   "outputs": [],
   "source": [
    "df.to_csv(\"sismo_cdmx_506.csv\")"
   ]
  },
  {
   "cell_type": "code",
   "execution_count": 27,
   "id": "noble-biodiversity",
   "metadata": {},
   "outputs": [
    {
     "data": {
      "text/plain": [
       "0      {'annotations': [{'start': 59, 'end': 64, 'pro...\n",
       "1      {'annotations': [{'start': 44, 'end': 55, 'pro...\n",
       "2      {'mentions': [{'start': 8, 'end': 18, 'usernam...\n",
       "3      {'mentions': [{'start': 8, 'end': 18, 'usernam...\n",
       "4      {'mentions': [{'start': 3, 'end': 9, 'username...\n",
       "                             ...                        \n",
       "501    {'annotations': [{'start': 81, 'end': 84, 'pro...\n",
       "502    {'urls': [{'start': 14, 'end': 37, 'url': 'htt...\n",
       "503    {'urls': [{'start': 67, 'end': 90, 'url': 'htt...\n",
       "504    {'annotations': [{'start': 42, 'end': 45, 'pro...\n",
       "505    {'annotations': [{'start': 58, 'end': 69, 'pro...\n",
       "Name: entities, Length: 506, dtype: object"
      ]
     },
     "execution_count": 27,
     "metadata": {},
     "output_type": "execute_result"
    }
   ],
   "source": [
    "df.entities"
   ]
  },
  {
   "cell_type": "code",
   "execution_count": null,
   "id": "desirable-spectacular",
   "metadata": {},
   "outputs": [],
   "source": []
  }
 ],
 "metadata": {
  "kernelspec": {
   "display_name": "Python 3",
   "language": "python",
   "name": "python3"
  },
  "language_info": {
   "codemirror_mode": {
    "name": "ipython",
    "version": 3
   },
   "file_extension": ".py",
   "mimetype": "text/x-python",
   "name": "python",
   "nbconvert_exporter": "python",
   "pygments_lexer": "ipython3",
   "version": "3.7.3"
  }
 },
 "nbformat": 4,
 "nbformat_minor": 5
}
