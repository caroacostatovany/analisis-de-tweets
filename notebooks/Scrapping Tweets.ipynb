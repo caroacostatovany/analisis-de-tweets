{
 "cells": [
  {
   "cell_type": "markdown",
   "id": "0a22a6ea",
   "metadata": {},
   "source": [
    "# From twitter"
   ]
  },
  {
   "cell_type": "code",
   "execution_count": null,
   "id": "de829b67",
   "metadata": {},
   "outputs": [],
   "source": [
    "from searchtweets import load_credentials"
   ]
  },
  {
   "cell_type": "code",
   "execution_count": null,
   "id": "2d9be634",
   "metadata": {},
   "outputs": [],
   "source": [
    "help(gen_request_parameters)"
   ]
  },
  {
   "cell_type": "code",
   "execution_count": null,
   "id": "81764200",
   "metadata": {},
   "outputs": [],
   "source": [
    "search_args = load_credentials(filename=\"../conf/local/credentials.yaml\",\n",
    "                 yaml_key=\"search_tweets_v2\",\n",
    "                 env_overwrite=False)"
   ]
  },
  {
   "cell_type": "code",
   "execution_count": null,
   "id": "f9fdfa95",
   "metadata": {},
   "outputs": [],
   "source": [
    "from searchtweets import ResultStream, gen_request_parameters, load_credentials"
   ]
  },
  {
   "cell_type": "code",
   "execution_count": null,
   "id": "4c4ce92d",
   "metadata": {},
   "outputs": [],
   "source": [
    "query = gen_request_parameters(\"sismo cdmx\", \n",
    "                               start_time = \"2017-09-11\",\n",
    "                               end_time = \"2017-09-13\",\n",
    "                               tweet_fields=\"id,text,created_at\",\n",
    "                               results_per_call=10)\n",
    "print(query)"
   ]
  },
  {
   "cell_type": "code",
   "execution_count": null,
   "id": "5fd6d4f8",
   "metadata": {},
   "outputs": [],
   "source": [
    "from searchtweets import collect_results"
   ]
  },
  {
   "cell_type": "code",
   "execution_count": null,
   "id": "a0eadf7f",
   "metadata": {},
   "outputs": [],
   "source": [
    "tweets = collect_results(query,\n",
    "                         max_tweets=10,\n",
    "                         result_stream_args=search_args) # change this if you need to"
   ]
  },
  {
   "cell_type": "code",
   "execution_count": null,
   "id": "f7d27804",
   "metadata": {},
   "outputs": [],
   "source": [
    "tweets"
   ]
  },
  {
   "cell_type": "code",
   "execution_count": null,
   "id": "378cc5c3",
   "metadata": {},
   "outputs": [],
   "source": [
    "rs = ResultStream(request_parameters=query,\n",
    "                    max_results=10,\n",
    "                    max_pages=1,\n",
    "                    **search_args)\n",
    "\n",
    "print(rs)"
   ]
  },
  {
   "cell_type": "code",
   "execution_count": null,
   "id": "02216342",
   "metadata": {},
   "outputs": [],
   "source": [
    "results = list(rs.stream())"
   ]
  },
  {
   "cell_type": "code",
   "execution_count": null,
   "id": "89029ddf",
   "metadata": {},
   "outputs": [],
   "source": [
    "[print(tweet) for tweet in results]"
   ]
  },
  {
   "cell_type": "code",
   "execution_count": null,
   "id": "11bdfd68",
   "metadata": {},
   "outputs": [],
   "source": [
    "results"
   ]
  },
  {
   "cell_type": "code",
   "execution_count": null,
   "id": "e47d6aa6",
   "metadata": {},
   "outputs": [],
   "source": [
    "import pandas as pd\n",
    "import numpy as np"
   ]
  },
  {
   "cell_type": "code",
   "execution_count": null,
   "id": "07718f98",
   "metadata": {},
   "outputs": [],
   "source": [
    "res = pd.DataFrame(results)"
   ]
  },
  {
   "cell_type": "code",
   "execution_count": null,
   "id": "8eaedfe8",
   "metadata": {},
   "outputs": [],
   "source": [
    "df = pd.DataFrame()\n",
    "for api in res.data:\n",
    "    for tweet in api:\n",
    "        lista = np.array([tweet['created_at'], tweet['id'], tweet['text']])\n",
    "        temp = pd.DataFrame([lista], columns=['created_at', 'id', 'text'])\n",
    "        df = pd.concat([df,temp], axis=0)"
   ]
  },
  {
   "cell_type": "code",
   "execution_count": null,
   "id": "9e9df134",
   "metadata": {},
   "outputs": [],
   "source": [
    "df"
   ]
  },
  {
   "cell_type": "code",
   "execution_count": null,
   "id": "d898a527",
   "metadata": {},
   "outputs": [],
   "source": [
    "df.to_csv(\"sismo_cdmx_506.csv\")"
   ]
  }
 ],
 "metadata": {
  "kernelspec": {
   "display_name": "Python 3",
   "language": "python",
   "name": "python3"
  },
  "language_info": {
   "codemirror_mode": {
    "name": "ipython",
    "version": 3
   },
   "file_extension": ".py",
   "mimetype": "text/x-python",
   "name": "python",
   "nbconvert_exporter": "python",
   "pygments_lexer": "ipython3",
   "version": "3.7.4"
  }
 },
 "nbformat": 4,
 "nbformat_minor": 5
}
