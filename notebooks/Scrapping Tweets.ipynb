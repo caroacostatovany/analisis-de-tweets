{
 "cells": [
  {
   "cell_type": "markdown",
   "id": "0a22a6ea",
   "metadata": {},
   "source": [
    "# From twitter"
   ]
  },
  {
   "cell_type": "markdown",
   "id": "simple-serial",
   "metadata": {},
   "source": [
    "Obtener tweets relacionados con el [sismo](http://ciencia.unam.mx/leer/652/-que-ocurrio-el-19-de-septiembre-de-2017-en-mexico-) vivido en la Ciudad de México en la fecha de $2029/\\text{Sept}/19$."
   ]
  },
  {
   "cell_type": "code",
   "execution_count": 1,
   "id": "composite-turkey",
   "metadata": {},
   "outputs": [],
   "source": [
    "import searchtweets\n",
    "import pandas as pd\n",
    "import numpy as np"
   ]
  },
  {
   "cell_type": "markdown",
   "id": "lyric-latitude",
   "metadata": {},
   "source": [
    "Verificar que la versión del paquete [`searchtweets`](https://pypi.org/project/searchtweets-v2/) es **1.0.7**. La manera que se recomienda instalar el paquete es la siguiente:\n",
    "+ `pip install searchtweets-v2`"
   ]
  },
  {
   "cell_type": "code",
   "execution_count": 2,
   "id": "cheap-publicity",
   "metadata": {},
   "outputs": [
    {
     "data": {
      "text/plain": [
       "'1.0.7'"
      ]
     },
     "execution_count": 2,
     "metadata": {},
     "output_type": "execute_result"
    }
   ],
   "source": [
    "searchtweets.__version__"
   ]
  },
  {
   "cell_type": "code",
   "execution_count": 3,
   "id": "de829b67",
   "metadata": {},
   "outputs": [],
   "source": [
    "from searchtweets import ResultStream, load_credentials, gen_request_parameters, collect_results"
   ]
  },
  {
   "cell_type": "markdown",
   "id": "third-liechtenstein",
   "metadata": {},
   "source": [
    "Verificar que se tiene el archivo `conf/local/credentials.yaml` con las credenciales necesarias para realizar el *scrapping* correspondiente a este notebook. En caso de que no se tengan se recomienda a acudir con los autores del proyecto."
   ]
  },
  {
   "cell_type": "code",
   "execution_count": 4,
   "id": "81764200",
   "metadata": {},
   "outputs": [],
   "source": [
    "search_args = load_credentials(filename=\"../conf/local/credentials.yaml\",\n",
    "                               yaml_key=\"search_tweets_v2\",\n",
    "                               env_overwrite=False)"
   ]
  },
  {
   "cell_type": "code",
   "execution_count": 5,
   "id": "4c4ce92d",
   "metadata": {},
   "outputs": [],
   "source": [
    "query = gen_request_parameters(\"sismo cdmx\", \n",
    "                               start_time = \"2017-09-11\",\n",
    "                               end_time = \"2017-12-31\",\n",
    "                               tweet_fields=\"id,created_at,conversation_id,in_reply_to_user_id,referenced_tweets,entities,text\",\n",
    "                               user_fields=\"id,username\",\n",
    "                               expansions=\"author_id\",\n",
    "                               results_per_call=10)"
   ]
  },
  {
   "cell_type": "markdown",
   "id": "severe-advantage",
   "metadata": {},
   "source": [
    "La siguiente línea es la versión antigua de generar el **scrapping**"
   ]
  },
  {
   "cell_type": "code",
   "execution_count": 6,
   "id": "a0eadf7f",
   "metadata": {},
   "outputs": [],
   "source": [
    "#tweets = collect_results(query, max_tweets=50, result_stream_args=search_args) # change this if you need to"
   ]
  },
  {
   "cell_type": "markdown",
   "id": "covered-tradition",
   "metadata": {},
   "source": [
    "La siguiente línea es la versión actual de generar el **scrapping**:\n",
    "+ `max_tweets`: indica la cantidad de tweets a generar"
   ]
  },
  {
   "cell_type": "code",
   "execution_count": 7,
   "id": "378cc5c3",
   "metadata": {},
   "outputs": [
    {
     "name": "stdout",
     "output_type": "stream",
     "text": [
      "ResultStream: \n",
      "\t{\n",
      "    \"endpoint\": \"https://api.twitter.com/2/tweets/search/all\",\n",
      "    \"request_parameters\": {\n",
      "        \"query\": \"sismo cdmx\",\n",
      "        \"max_results\": 10,\n",
      "        \"start_time\": \"2017-09-11T00:00:00Z\",\n",
      "        \"end_time\": \"2017-12-31T00:00:00Z\",\n",
      "        \"tweet.fields\": \"id,created_at,conversation_id,in_reply_to_user_id,referenced_tweets,entities,text\",\n",
      "        \"user.fields\": \"id,username\",\n",
      "        \"expansions\": \"author_id\"\n",
      "    },\n",
      "    \"max_tweets\": 50000\n",
      "}\n"
     ]
    }
   ],
   "source": [
    "rs = ResultStream(request_parameters=query,\n",
    "                  max_results=10,\n",
    "                  max_pages=1,\n",
    "                  max_tweets=50000,\n",
    "                  **search_args)\n",
    "print(rs)"
   ]
  },
  {
   "cell_type": "code",
   "execution_count": null,
   "id": "02216342",
   "metadata": {},
   "outputs": [
    {
     "name": "stderr",
     "output_type": "stream",
     "text": [
      " HTTP Error code: 429: Rate limit exceeded\n",
      " | Too Many Requests\n",
      " Request payload: {'query': 'sismo cdmx', 'max_results': 10, 'start_time': '2017-09-11T00:00:00Z', 'end_time': '2017-12-31T00:00:00Z', 'tweet.fields': 'id,created_at,conversation_id,in_reply_to_user_id,referenced_tweets,entities,text', 'user.fields': 'id,username', 'expansions': 'author_id', 'next_token': '1jzu9lk96gu5npw44kgwrl2bhw4y896wrlg57exvs0vx'}\n",
      "Rate limit hit... Will retry...\n",
      "Will retry in 4 seconds...\n",
      " HTTP Error code: 429: Rate limit exceeded\n",
      " | Too Many Requests\n",
      " Request payload: {'query': 'sismo cdmx', 'max_results': 10, 'start_time': '2017-09-11T00:00:00Z', 'end_time': '2017-12-31T00:00:00Z', 'tweet.fields': 'id,created_at,conversation_id,in_reply_to_user_id,referenced_tweets,entities,text', 'user.fields': 'id,username', 'expansions': 'author_id', 'next_token': '1jzu9lk96gu5npw44kgwrl2bhw4y896wrlg57exvs0vx'}\n",
      "Rate limit hit... Will retry...\n",
      "Will retry in 16 seconds...\n",
      " HTTP Error code: 429: Rate limit exceeded\n",
      " | Too Many Requests\n",
      " Request payload: {'query': 'sismo cdmx', 'max_results': 10, 'start_time': '2017-09-11T00:00:00Z', 'end_time': '2017-12-31T00:00:00Z', 'tweet.fields': 'id,created_at,conversation_id,in_reply_to_user_id,referenced_tweets,entities,text', 'user.fields': 'id,username', 'expansions': 'author_id', 'next_token': '1jzu9lk96gu5npw44kgwrl2bhw4y896wrlg57exvs0vx'}\n",
      "Rate limit hit... Will retry...\n",
      "Will retry in 36 seconds...\n",
      " HTTP Error code: 429: Rate limit exceeded\n",
      " | Too Many Requests\n",
      " Request payload: {'query': 'sismo cdmx', 'max_results': 10, 'start_time': '2017-09-11T00:00:00Z', 'end_time': '2017-12-31T00:00:00Z', 'tweet.fields': 'id,created_at,conversation_id,in_reply_to_user_id,referenced_tweets,entities,text', 'user.fields': 'id,username', 'expansions': 'author_id', 'next_token': '1jzu9lk96gu5npw44kgwrl2bhw4y896wrlg57exvs0vx'}\n",
      "Rate limit hit... Will retry...\n",
      "Will retry in 64 seconds...\n",
      " HTTP Error code: 429: Rate limit exceeded\n",
      " | Too Many Requests\n",
      " Request payload: {'query': 'sismo cdmx', 'max_results': 10, 'start_time': '2017-09-11T00:00:00Z', 'end_time': '2017-12-31T00:00:00Z', 'tweet.fields': 'id,created_at,conversation_id,in_reply_to_user_id,referenced_tweets,entities,text', 'user.fields': 'id,username', 'expansions': 'author_id', 'next_token': '1jzu9lk96gu5npw44kgwrl2bhw4y896wrlg57exvs0vx'}\n",
      "Rate limit hit... Will retry...\n",
      "Will retry in 100 seconds...\n",
      " HTTP Error code: 429: Rate limit exceeded\n",
      " | Too Many Requests\n",
      " Request payload: {'query': 'sismo cdmx', 'max_results': 10, 'start_time': '2017-09-11T00:00:00Z', 'end_time': '2017-12-31T00:00:00Z', 'tweet.fields': 'id,created_at,conversation_id,in_reply_to_user_id,referenced_tweets,entities,text', 'user.fields': 'id,username', 'expansions': 'author_id', 'next_token': '1jzu9lk96gu5npw44kgwrl2bhw4y896wrlg57exvs0vx'}\n",
      "Rate limit hit... Will retry...\n",
      "Will retry in 144 seconds...\n",
      " HTTP Error code: 429: Rate limit exceeded\n",
      " | Too Many Requests\n",
      " Request payload: {'query': 'sismo cdmx', 'max_results': 10, 'start_time': '2017-09-11T00:00:00Z', 'end_time': '2017-12-31T00:00:00Z', 'tweet.fields': 'id,created_at,conversation_id,in_reply_to_user_id,referenced_tweets,entities,text', 'user.fields': 'id,username', 'expansions': 'author_id', 'next_token': '1jzu9lk96gu5npw44kgwrl2bhw4y896wrlg57exvs0vx'}\n",
      "Rate limit hit... Will retry...\n",
      "Will retry in 196 seconds...\n",
      " HTTP Error code: 429: Rate limit exceeded\n",
      " | Too Many Requests\n",
      " Request payload: {'query': 'sismo cdmx', 'max_results': 10, 'start_time': '2017-09-11T00:00:00Z', 'end_time': '2017-12-31T00:00:00Z', 'tweet.fields': 'id,created_at,conversation_id,in_reply_to_user_id,referenced_tweets,entities,text', 'user.fields': 'id,username', 'expansions': 'author_id', 'next_token': '1jzu9lk96gu5npw44kg2mt5kwcw85ia6zch47hnqhapp'}\n",
      "Rate limit hit... Will retry...\n",
      "Will retry in 4 seconds...\n",
      " HTTP Error code: 429: Rate limit exceeded\n",
      " | Too Many Requests\n",
      " Request payload: {'query': 'sismo cdmx', 'max_results': 10, 'start_time': '2017-09-11T00:00:00Z', 'end_time': '2017-12-31T00:00:00Z', 'tweet.fields': 'id,created_at,conversation_id,in_reply_to_user_id,referenced_tweets,entities,text', 'user.fields': 'id,username', 'expansions': 'author_id', 'next_token': '1jzu9lk96gu5npw44kg2mt5kwcw85ia6zch47hnqhapp'}\n",
      "Rate limit hit... Will retry...\n",
      "Will retry in 16 seconds...\n",
      " HTTP Error code: 429: Rate limit exceeded\n",
      " | Too Many Requests\n",
      " Request payload: {'query': 'sismo cdmx', 'max_results': 10, 'start_time': '2017-09-11T00:00:00Z', 'end_time': '2017-12-31T00:00:00Z', 'tweet.fields': 'id,created_at,conversation_id,in_reply_to_user_id,referenced_tweets,entities,text', 'user.fields': 'id,username', 'expansions': 'author_id', 'next_token': '1jzu9lk96gu5npw44kg2mt5kwcw85ia6zch47hnqhapp'}\n",
      "Rate limit hit... Will retry...\n",
      "Will retry in 36 seconds...\n",
      " HTTP Error code: 429: Rate limit exceeded\n",
      " | Too Many Requests\n",
      " Request payload: {'query': 'sismo cdmx', 'max_results': 10, 'start_time': '2017-09-11T00:00:00Z', 'end_time': '2017-12-31T00:00:00Z', 'tweet.fields': 'id,created_at,conversation_id,in_reply_to_user_id,referenced_tweets,entities,text', 'user.fields': 'id,username', 'expansions': 'author_id', 'next_token': '1jzu9lk96gu5npw44kg2mt5kwcw85ia6zch47hnqhapp'}\n",
      "Rate limit hit... Will retry...\n",
      "Will retry in 64 seconds...\n",
      " HTTP Error code: 429: Rate limit exceeded\n",
      " | Too Many Requests\n",
      " Request payload: {'query': 'sismo cdmx', 'max_results': 10, 'start_time': '2017-09-11T00:00:00Z', 'end_time': '2017-12-31T00:00:00Z', 'tweet.fields': 'id,created_at,conversation_id,in_reply_to_user_id,referenced_tweets,entities,text', 'user.fields': 'id,username', 'expansions': 'author_id', 'next_token': '1jzu9lk96gu5npw44kg2mt5kwcw85ia6zch47hnqhapp'}\n",
      "Rate limit hit... Will retry...\n",
      "Will retry in 100 seconds...\n",
      " HTTP Error code: 429: Rate limit exceeded\n",
      " | Too Many Requests\n",
      " Request payload: {'query': 'sismo cdmx', 'max_results': 10, 'start_time': '2017-09-11T00:00:00Z', 'end_time': '2017-12-31T00:00:00Z', 'tweet.fields': 'id,created_at,conversation_id,in_reply_to_user_id,referenced_tweets,entities,text', 'user.fields': 'id,username', 'expansions': 'author_id', 'next_token': '1jzu9lk96gu5npw44kg2mt5kwcw85ia6zch47hnqhapp'}\n",
      "Rate limit hit... Will retry...\n",
      "Will retry in 144 seconds...\n",
      " HTTP Error code: 429: Rate limit exceeded\n",
      " | Too Many Requests\n",
      " Request payload: {'query': 'sismo cdmx', 'max_results': 10, 'start_time': '2017-09-11T00:00:00Z', 'end_time': '2017-12-31T00:00:00Z', 'tweet.fields': 'id,created_at,conversation_id,in_reply_to_user_id,referenced_tweets,entities,text', 'user.fields': 'id,username', 'expansions': 'author_id', 'next_token': '1jzu9lk96gu5npw44kg2mt5kwcw85ia6zch47hnqhapp'}\n",
      "Rate limit hit... Will retry...\n",
      "Will retry in 196 seconds...\n",
      " HTTP Error code: 429: Rate limit exceeded\n",
      " | Too Many Requests\n",
      " Request payload: {'query': 'sismo cdmx', 'max_results': 10, 'start_time': '2017-09-11T00:00:00Z', 'end_time': '2017-12-31T00:00:00Z', 'tweet.fields': 'id,created_at,conversation_id,in_reply_to_user_id,referenced_tweets,entities,text', 'user.fields': 'id,username', 'expansions': 'author_id', 'next_token': '1jzu9lk96gu5npw44kg2km113xvbzb7p97eemlvet3zx'}\n",
      "Rate limit hit... Will retry...\n",
      "Will retry in 4 seconds...\n",
      " HTTP Error code: 429: Rate limit exceeded\n",
      " | Too Many Requests\n",
      " Request payload: {'query': 'sismo cdmx', 'max_results': 10, 'start_time': '2017-09-11T00:00:00Z', 'end_time': '2017-12-31T00:00:00Z', 'tweet.fields': 'id,created_at,conversation_id,in_reply_to_user_id,referenced_tweets,entities,text', 'user.fields': 'id,username', 'expansions': 'author_id', 'next_token': '1jzu9lk96gu5npw44kg2km113xvbzb7p97eemlvet3zx'}\n",
      "Rate limit hit... Will retry...\n",
      "Will retry in 16 seconds...\n",
      " HTTP Error code: 429: Rate limit exceeded\n",
      " | Too Many Requests\n",
      " Request payload: {'query': 'sismo cdmx', 'max_results': 10, 'start_time': '2017-09-11T00:00:00Z', 'end_time': '2017-12-31T00:00:00Z', 'tweet.fields': 'id,created_at,conversation_id,in_reply_to_user_id,referenced_tweets,entities,text', 'user.fields': 'id,username', 'expansions': 'author_id', 'next_token': '1jzu9lk96gu5npw44kg2km113xvbzb7p97eemlvet3zx'}\n",
      "Rate limit hit... Will retry...\n",
      "Will retry in 36 seconds...\n",
      " HTTP Error code: 429: Rate limit exceeded\n",
      " | Too Many Requests\n"
     ]
    },
    {
     "name": "stderr",
     "output_type": "stream",
     "text": [
      " Request payload: {'query': 'sismo cdmx', 'max_results': 10, 'start_time': '2017-09-11T00:00:00Z', 'end_time': '2017-12-31T00:00:00Z', 'tweet.fields': 'id,created_at,conversation_id,in_reply_to_user_id,referenced_tweets,entities,text', 'user.fields': 'id,username', 'expansions': 'author_id', 'next_token': '1jzu9lk96gu5npw44kg2km113xvbzb7p97eemlvet3zx'}\n",
      "Rate limit hit... Will retry...\n",
      "Will retry in 64 seconds...\n",
      " HTTP Error code: 429: Rate limit exceeded\n",
      " | Too Many Requests\n",
      " Request payload: {'query': 'sismo cdmx', 'max_results': 10, 'start_time': '2017-09-11T00:00:00Z', 'end_time': '2017-12-31T00:00:00Z', 'tweet.fields': 'id,created_at,conversation_id,in_reply_to_user_id,referenced_tweets,entities,text', 'user.fields': 'id,username', 'expansions': 'author_id', 'next_token': '1jzu9lk96gu5npw44kg2km113xvbzb7p97eemlvet3zx'}\n",
      "Rate limit hit... Will retry...\n",
      "Will retry in 100 seconds...\n",
      " HTTP Error code: 429: Rate limit exceeded\n",
      " | Too Many Requests\n",
      " Request payload: {'query': 'sismo cdmx', 'max_results': 10, 'start_time': '2017-09-11T00:00:00Z', 'end_time': '2017-12-31T00:00:00Z', 'tweet.fields': 'id,created_at,conversation_id,in_reply_to_user_id,referenced_tweets,entities,text', 'user.fields': 'id,username', 'expansions': 'author_id', 'next_token': '1jzu9lk96gu5npw44kg2km113xvbzb7p97eemlvet3zx'}\n",
      "Rate limit hit... Will retry...\n",
      "Will retry in 144 seconds...\n",
      " HTTP Error code: 429: Rate limit exceeded\n",
      " | Too Many Requests\n",
      " Request payload: {'query': 'sismo cdmx', 'max_results': 10, 'start_time': '2017-09-11T00:00:00Z', 'end_time': '2017-12-31T00:00:00Z', 'tweet.fields': 'id,created_at,conversation_id,in_reply_to_user_id,referenced_tweets,entities,text', 'user.fields': 'id,username', 'expansions': 'author_id', 'next_token': '1jzu9lk96gu5npw44kg2km113xvbzb7p97eemlvet3zx'}\n",
      "Rate limit hit... Will retry...\n",
      "Will retry in 196 seconds...\n",
      " HTTP Error code: 429: Rate limit exceeded\n",
      " | Too Many Requests\n",
      " Request payload: {'query': 'sismo cdmx', 'max_results': 10, 'start_time': '2017-09-11T00:00:00Z', 'end_time': '2017-12-31T00:00:00Z', 'tweet.fields': 'id,created_at,conversation_id,in_reply_to_user_id,referenced_tweets,entities,text', 'user.fields': 'id,username', 'expansions': 'author_id', 'next_token': '1jzu9lk96gu5npw44kg2ijzzm54wo8qy7pjs46gf2zr1'}\n",
      "Rate limit hit... Will retry...\n",
      "Will retry in 4 seconds...\n",
      " HTTP Error code: 429: Rate limit exceeded\n",
      " | Too Many Requests\n",
      " Request payload: {'query': 'sismo cdmx', 'max_results': 10, 'start_time': '2017-09-11T00:00:00Z', 'end_time': '2017-12-31T00:00:00Z', 'tweet.fields': 'id,created_at,conversation_id,in_reply_to_user_id,referenced_tweets,entities,text', 'user.fields': 'id,username', 'expansions': 'author_id', 'next_token': '1jzu9lk96gu5npw44kg2ijzzm54wo8qy7pjs46gf2zr1'}\n",
      "Rate limit hit... Will retry...\n",
      "Will retry in 16 seconds...\n",
      " HTTP Error code: 429: Rate limit exceeded\n",
      " | Too Many Requests\n",
      " Request payload: {'query': 'sismo cdmx', 'max_results': 10, 'start_time': '2017-09-11T00:00:00Z', 'end_time': '2017-12-31T00:00:00Z', 'tweet.fields': 'id,created_at,conversation_id,in_reply_to_user_id,referenced_tweets,entities,text', 'user.fields': 'id,username', 'expansions': 'author_id', 'next_token': '1jzu9lk96gu5npw44kg2ijzzm54wo8qy7pjs46gf2zr1'}\n",
      "Rate limit hit... Will retry...\n",
      "Will retry in 36 seconds...\n",
      " HTTP Error code: 429: Rate limit exceeded\n",
      " | Too Many Requests\n",
      " Request payload: {'query': 'sismo cdmx', 'max_results': 10, 'start_time': '2017-09-11T00:00:00Z', 'end_time': '2017-12-31T00:00:00Z', 'tweet.fields': 'id,created_at,conversation_id,in_reply_to_user_id,referenced_tweets,entities,text', 'user.fields': 'id,username', 'expansions': 'author_id', 'next_token': '1jzu9lk96gu5npw44kg2ijzzm54wo8qy7pjs46gf2zr1'}\n",
      "Rate limit hit... Will retry...\n",
      "Will retry in 64 seconds...\n",
      " HTTP Error code: 429: Rate limit exceeded\n",
      " | Too Many Requests\n",
      " Request payload: {'query': 'sismo cdmx', 'max_results': 10, 'start_time': '2017-09-11T00:00:00Z', 'end_time': '2017-12-31T00:00:00Z', 'tweet.fields': 'id,created_at,conversation_id,in_reply_to_user_id,referenced_tweets,entities,text', 'user.fields': 'id,username', 'expansions': 'author_id', 'next_token': '1jzu9lk96gu5npw44kg2ijzzm54wo8qy7pjs46gf2zr1'}\n",
      "Rate limit hit... Will retry...\n",
      "Will retry in 100 seconds...\n",
      " HTTP Error code: 429: Rate limit exceeded\n",
      " | Too Many Requests\n",
      " Request payload: {'query': 'sismo cdmx', 'max_results': 10, 'start_time': '2017-09-11T00:00:00Z', 'end_time': '2017-12-31T00:00:00Z', 'tweet.fields': 'id,created_at,conversation_id,in_reply_to_user_id,referenced_tweets,entities,text', 'user.fields': 'id,username', 'expansions': 'author_id', 'next_token': '1jzu9lk96gu5npw44kg2ijzzm54wo8qy7pjs46gf2zr1'}\n",
      "Rate limit hit... Will retry...\n",
      "Will retry in 144 seconds...\n",
      " HTTP Error code: 429: Rate limit exceeded\n",
      " | Too Many Requests\n",
      " Request payload: {'query': 'sismo cdmx', 'max_results': 10, 'start_time': '2017-09-11T00:00:00Z', 'end_time': '2017-12-31T00:00:00Z', 'tweet.fields': 'id,created_at,conversation_id,in_reply_to_user_id,referenced_tweets,entities,text', 'user.fields': 'id,username', 'expansions': 'author_id', 'next_token': '1jzu9lk96gu5npw44kg2ijzzm54wo8qy7pjs46gf2zr1'}\n",
      "Rate limit hit... Will retry...\n",
      "Will retry in 196 seconds...\n",
      " HTTP Error code: 429: Rate limit exceeded\n",
      " | Too Many Requests\n",
      " Request payload: {'query': 'sismo cdmx', 'max_results': 10, 'start_time': '2017-09-11T00:00:00Z', 'end_time': '2017-12-31T00:00:00Z', 'tweet.fields': 'id,created_at,conversation_id,in_reply_to_user_id,referenced_tweets,entities,text', 'user.fields': 'id,username', 'expansions': 'author_id', 'next_token': '1jzu9lk96gu5npw44kf8hyuecdpbtjhxqjdzkkzxjd6l'}\n",
      "Rate limit hit... Will retry...\n",
      "Will retry in 4 seconds...\n",
      " HTTP Error code: 429: Rate limit exceeded\n",
      " | Too Many Requests\n",
      " Request payload: {'query': 'sismo cdmx', 'max_results': 10, 'start_time': '2017-09-11T00:00:00Z', 'end_time': '2017-12-31T00:00:00Z', 'tweet.fields': 'id,created_at,conversation_id,in_reply_to_user_id,referenced_tweets,entities,text', 'user.fields': 'id,username', 'expansions': 'author_id', 'next_token': '1jzu9lk96gu5npw44kf8hyuecdpbtjhxqjdzkkzxjd6l'}\n",
      "Rate limit hit... Will retry...\n",
      "Will retry in 16 seconds...\n",
      " HTTP Error code: 429: Rate limit exceeded\n",
      " | Too Many Requests\n",
      " Request payload: {'query': 'sismo cdmx', 'max_results': 10, 'start_time': '2017-09-11T00:00:00Z', 'end_time': '2017-12-31T00:00:00Z', 'tweet.fields': 'id,created_at,conversation_id,in_reply_to_user_id,referenced_tweets,entities,text', 'user.fields': 'id,username', 'expansions': 'author_id', 'next_token': '1jzu9lk96gu5npw44kf8hyuecdpbtjhxqjdzkkzxjd6l'}\n",
      "Rate limit hit... Will retry...\n",
      "Will retry in 36 seconds...\n",
      " HTTP Error code: 429: Rate limit exceeded\n",
      " | Too Many Requests\n",
      " Request payload: {'query': 'sismo cdmx', 'max_results': 10, 'start_time': '2017-09-11T00:00:00Z', 'end_time': '2017-12-31T00:00:00Z', 'tweet.fields': 'id,created_at,conversation_id,in_reply_to_user_id,referenced_tweets,entities,text', 'user.fields': 'id,username', 'expansions': 'author_id', 'next_token': '1jzu9lk96gu5npw44kf8hyuecdpbtjhxqjdzkkzxjd6l'}\n",
      "Rate limit hit... Will retry...\n",
      "Will retry in 64 seconds...\n",
      " HTTP Error code: 429: Rate limit exceeded\n",
      " | Too Many Requests\n",
      " Request payload: {'query': 'sismo cdmx', 'max_results': 10, 'start_time': '2017-09-11T00:00:00Z', 'end_time': '2017-12-31T00:00:00Z', 'tweet.fields': 'id,created_at,conversation_id,in_reply_to_user_id,referenced_tweets,entities,text', 'user.fields': 'id,username', 'expansions': 'author_id', 'next_token': '1jzu9lk96gu5npw44kf8hyuecdpbtjhxqjdzkkzxjd6l'}\n",
      "Rate limit hit... Will retry...\n",
      "Will retry in 100 seconds...\n",
      " HTTP Error code: 429: Rate limit exceeded\n",
      " | Too Many Requests\n",
      " Request payload: {'query': 'sismo cdmx', 'max_results': 10, 'start_time': '2017-09-11T00:00:00Z', 'end_time': '2017-12-31T00:00:00Z', 'tweet.fields': 'id,created_at,conversation_id,in_reply_to_user_id,referenced_tweets,entities,text', 'user.fields': 'id,username', 'expansions': 'author_id', 'next_token': '1jzu9lk96gu5npw44kf8hyuecdpbtjhxqjdzkkzxjd6l'}\n",
      "Rate limit hit... Will retry...\n",
      "Will retry in 144 seconds...\n"
     ]
    }
   ],
   "source": [
    "results = list(rs.stream())"
   ]
  },
  {
   "cell_type": "code",
   "execution_count": null,
   "id": "07718f98",
   "metadata": {},
   "outputs": [],
   "source": [
    "res = pd.DataFrame(results)"
   ]
  },
  {
   "cell_type": "code",
   "execution_count": null,
   "id": "comparative-council",
   "metadata": {},
   "outputs": [],
   "source": [
    "res.head(3)"
   ]
  },
  {
   "cell_type": "code",
   "execution_count": null,
   "id": "adapted-recipe",
   "metadata": {},
   "outputs": [],
   "source": [
    "res.shape"
   ]
  },
  {
   "cell_type": "code",
   "execution_count": null,
   "id": "particular-expansion",
   "metadata": {},
   "outputs": [],
   "source": [
    "res.data[0]"
   ]
  },
  {
   "cell_type": "code",
   "execution_count": null,
   "id": "8eaedfe8",
   "metadata": {},
   "outputs": [],
   "source": [
    "df_1 = pd.DataFrame()\n",
    "for api in res.data:\n",
    "    for tweet in api:\n",
    "        if 'in_reply_to_user_id' not in tweet:\n",
    "            tweet['in_reply_to_user_id'] = 'propio'\n",
    "        if 'referenced_tweets' not in tweet:\n",
    "            tweet['referenced_tweets'] = 'propio_original'\n",
    "        if 'entities' not in tweet:\n",
    "            tweet['entities'] = 'propio_original'\n",
    "        lista = np.array([tweet['created_at'], tweet['id'], tweet['author_id'], \n",
    "                          tweet['conversation_id'], tweet['in_reply_to_user_id'], tweet['referenced_tweets'],\n",
    "                          tweet['entities'],tweet['text']])\n",
    "        temp = pd.DataFrame([lista], columns=['created_at', 'id', 'author_id', 'conversation_id', 'referenced_tweets',\n",
    "                                              'reply_to_user_id', 'entities' ,'text'])\n",
    "        df_1 = pd.concat([df_1,temp], axis=0)"
   ]
  },
  {
   "cell_type": "markdown",
   "id": "boring-donna",
   "metadata": {},
   "source": [
    "Información del **tweet**"
   ]
  },
  {
   "cell_type": "code",
   "execution_count": null,
   "id": "neutral-subdivision",
   "metadata": {},
   "outputs": [],
   "source": [
    "df_1.head(6)"
   ]
  },
  {
   "cell_type": "markdown",
   "id": "posted-encyclopedia",
   "metadata": {},
   "source": [
    "Información del usuario (**user**)"
   ]
  },
  {
   "cell_type": "code",
   "execution_count": null,
   "id": "acoustic-water",
   "metadata": {},
   "outputs": [],
   "source": [
    "df_2 = pd.DataFrame()\n",
    "for api in res.includes:\n",
    "    for tweet in api['users']:    \n",
    "        lista = np.array([tweet['id'], tweet['username']])\n",
    "        temp = temp = pd.DataFrame([lista], columns=['author_id', 'username'])\n",
    "        df_2 = pd.concat([df_2,temp], axis=0)"
   ]
  },
  {
   "cell_type": "code",
   "execution_count": null,
   "id": "finnish-nursery",
   "metadata": {},
   "outputs": [],
   "source": [
    "df_2['id_user'] = df_2.author_id.astype('str') + df_2.username"
   ]
  },
  {
   "cell_type": "code",
   "execution_count": null,
   "id": "working-election",
   "metadata": {},
   "outputs": [],
   "source": [
    "df_2.head(6)"
   ]
  },
  {
   "cell_type": "code",
   "execution_count": null,
   "id": "worst-protocol",
   "metadata": {},
   "outputs": [],
   "source": [
    "df_2=df_2.drop_duplicates('id_user')"
   ]
  },
  {
   "cell_type": "code",
   "execution_count": null,
   "id": "humanitarian-cancellation",
   "metadata": {},
   "outputs": [],
   "source": [
    "df_2.shape"
   ]
  },
  {
   "cell_type": "code",
   "execution_count": null,
   "id": "arranged-arrest",
   "metadata": {},
   "outputs": [],
   "source": [
    "df_2_clean = df_2[['author_id','username']]"
   ]
  },
  {
   "cell_type": "code",
   "execution_count": null,
   "id": "central-quebec",
   "metadata": {},
   "outputs": [],
   "source": [
    "df = df_1.merge(df_2_clean, on='author_id', how='left')"
   ]
  },
  {
   "cell_type": "code",
   "execution_count": null,
   "id": "conscious-separate",
   "metadata": {},
   "outputs": [],
   "source": [
    "df"
   ]
  },
  {
   "cell_type": "code",
   "execution_count": null,
   "id": "satisfactory-fever",
   "metadata": {},
   "outputs": [],
   "source": [
    "df.dtypes"
   ]
  },
  {
   "cell_type": "code",
   "execution_count": null,
   "id": "d898a527",
   "metadata": {},
   "outputs": [],
   "source": [
    "#df.to_csv(\"sismo_cdmx_506.csv\")"
   ]
  },
  {
   "cell_type": "code",
   "execution_count": null,
   "id": "desirable-spectacular",
   "metadata": {},
   "outputs": [],
   "source": []
  }
 ],
 "metadata": {
  "kernelspec": {
   "display_name": "Python 3",
   "language": "python",
   "name": "python3"
  },
  "language_info": {
   "codemirror_mode": {
    "name": "ipython",
    "version": 3
   },
   "file_extension": ".py",
   "mimetype": "text/x-python",
   "name": "python",
   "nbconvert_exporter": "python",
   "pygments_lexer": "ipython3",
   "version": "3.7.3"
  }
 },
 "nbformat": 4,
 "nbformat_minor": 5
}
